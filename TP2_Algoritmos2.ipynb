{
  "cells": [
    {
      "cell_type": "markdown",
      "metadata": {
        "id": "CP0flYrhna18"
      },
      "source": [
        "### Trabalho Prático 2 – Clusterização"
      ]
    },
    {
      "cell_type": "markdown",
      "metadata": {
        "id": "dxefDJ3fzlwp"
      },
      "source": [
        "#### Importações"
      ]
    },
    {
      "cell_type": "code",
      "execution_count": 55,
      "metadata": {
        "colab": {
          "base_uri": "https://localhost:8080/"
        },
        "id": "wK4ILlacWK0X",
        "outputId": "cda566b9-bcd5-430c-e6e2-3448f2a422a3"
      },
      "outputs": [
        {
          "output_type": "stream",
          "name": "stdout",
          "text": [
            "Requirement already satisfied: ucimlrepo in /usr/local/lib/python3.10/dist-packages (0.0.7)\n",
            "Requirement already satisfied: pandas>=1.0.0 in /usr/local/lib/python3.10/dist-packages (from ucimlrepo) (2.1.4)\n",
            "Requirement already satisfied: certifi>=2020.12.5 in /usr/local/lib/python3.10/dist-packages (from ucimlrepo) (2024.7.4)\n",
            "Requirement already satisfied: numpy<2,>=1.22.4 in /usr/local/lib/python3.10/dist-packages (from pandas>=1.0.0->ucimlrepo) (1.26.4)\n",
            "Requirement already satisfied: python-dateutil>=2.8.2 in /usr/local/lib/python3.10/dist-packages (from pandas>=1.0.0->ucimlrepo) (2.8.2)\n",
            "Requirement already satisfied: pytz>=2020.1 in /usr/local/lib/python3.10/dist-packages (from pandas>=1.0.0->ucimlrepo) (2024.1)\n",
            "Requirement already satisfied: tzdata>=2022.1 in /usr/local/lib/python3.10/dist-packages (from pandas>=1.0.0->ucimlrepo) (2024.1)\n",
            "Requirement already satisfied: six>=1.5 in /usr/local/lib/python3.10/dist-packages (from python-dateutil>=2.8.2->pandas>=1.0.0->ucimlrepo) (1.16.0)\n"
          ]
        }
      ],
      "source": [
        "!pip install ucimlrepo"
      ]
    },
    {
      "cell_type": "code",
      "execution_count": 56,
      "metadata": {
        "collapsed": true,
        "id": "C6zcvh1Tzfg1"
      },
      "outputs": [],
      "source": [
        "import numpy as np\n",
        "from ucimlrepo import fetch_ucirepo\n",
        "import time\n",
        "import warnings\n",
        "from itertools import cycle, islice\n",
        "import matplotlib.pyplot as plt\n",
        "import numpy as np\n",
        "import pandas as pd\n",
        "from sklearn.datasets import make_blobs\n",
        "from sklearn.cluster import KMeans\n",
        "from sklearn.metrics import silhouette_score\n",
        "from sklearn.metrics import adjusted_rand_score"
      ]
    },
    {
      "cell_type": "markdown",
      "metadata": {
        "id": "zFt7HQINnndy"
      },
      "source": [
        " #### Distância de Minkowski"
      ]
    },
    {
      "cell_type": "code",
      "execution_count": 57,
      "metadata": {
        "id": "DbrRbCsDnWA_"
      },
      "outputs": [],
      "source": [
        "# p = 1 (Distância Manhattan)\n",
        "# p = 2 (Distância Euclidiana)\n",
        "\n",
        "def minkowski(x, y, p):\n",
        "   return np.power(np.sum(np.abs(x - y) ** p), 1/p)"
      ]
    },
    {
      "cell_type": "code",
      "execution_count": 58,
      "metadata": {
        "id": "XPLqlEDepl_L"
      },
      "outputs": [],
      "source": [
        "def matriz_dist(df, p):\n",
        "    npontos = df.shape[0]\n",
        "    distancias = np.zeros((npontos, npontos))\n",
        "\n",
        "    for i in range(npontos):\n",
        "        for j in range(npontos):\n",
        "            ponto1 = df.iloc[i].values\n",
        "            ponto2 = df.iloc[j].values\n",
        "            distancias[i, j] = minkowski(ponto1, ponto2, p)\n",
        "\n",
        "    return distancias"
      ]
    },
    {
      "cell_type": "markdown",
      "metadata": {
        "id": "W-9oFwseor37"
      },
      "source": [
        "#### Algoritmos aproximados K-Centros"
      ]
    },
    {
      "cell_type": "markdown",
      "metadata": {
        "id": "idgw2Hyq0lre"
      },
      "source": [
        "##### Algoritmo baseado em refinamento de intervalos"
      ]
    },
    {
      "cell_type": "code",
      "execution_count": 59,
      "metadata": {
        "id": "10hkMC4q0rer"
      },
      "outputs": [],
      "source": [
        "def rvalid(npontos, raio, distancias, k):\n",
        "  s_aux = np.arange(npontos)\n",
        "  C = []\n",
        "  while len(s_aux)>0:\n",
        "    C.append(s_aux[0])\n",
        "    s_aux = s_aux[1:]\n",
        "    s_aux = [x for x in s_aux if distancias[C[-1], x] > 2*raio]\n",
        "  return len(C) <= k.item(), C"
      ]
    },
    {
      "cell_type": "code",
      "execution_count": 60,
      "metadata": {
        "id": "wR7UzLasXvoc"
      },
      "outputs": [],
      "source": [
        "def calculo_rmax(distancias, npontos):\n",
        "  rmax = -1\n",
        "  for i in range(npontos):\n",
        "    for j in range(npontos):\n",
        "      rmax = max(rmax, distancias[i, j])\n",
        "  return rmax"
      ]
    },
    {
      "cell_type": "code",
      "execution_count": 61,
      "metadata": {
        "id": "BxkLtHOcmdA2"
      },
      "outputs": [],
      "source": [
        "def kcentros1(npontos, distancias,k, ref):\n",
        "  rmax = calculo_rmax(distancias, npontos)\n",
        "  l = 0;\n",
        "  r = rmax;\n",
        "\n",
        "  while((r-l)/rmax > ref):\n",
        "    m = (l+r)/2.0\n",
        "    v, C = rvalid(npontos, m, distancias, k)\n",
        "    if(v):\n",
        "      r = m\n",
        "    else:\n",
        "      l = m+1\n",
        "  while (l != r):\n",
        "    m = (l+r)/2\n",
        "    v, C = rvalid(npontos, m, distancias, k)\n",
        "    if(v):\n",
        "      return C\n",
        "    else:\n",
        "      l = m+1\n",
        "  v, C = rvalid(npontos, l, distancias, k)\n",
        "  return C"
      ]
    },
    {
      "cell_type": "markdown",
      "metadata": {
        "id": "xpHibAopTYgx"
      },
      "source": [
        "Os intervalos considerados serão de 5%, 10%, 15%, 20% e 25%"
      ]
    },
    {
      "cell_type": "markdown",
      "metadata": {
        "id": "vde577VGGWbU"
      },
      "source": [
        "#### Algoritmo baseado na maximização da distância entre os centros previamente escolhidos."
      ]
    },
    {
      "cell_type": "code",
      "execution_count": 62,
      "metadata": {
        "id": "SVGtvmBro3L7"
      },
      "outputs": [],
      "source": [
        "def kcentros2(k, npontos, distancias):\n",
        "  if(k.item() > npontos):\n",
        "    return np.arange()\n",
        "  C = [0]\n",
        "  idponto = 0\n",
        "  while(len(C) < k.item()):\n",
        "    dist = -1\n",
        "    for c in C:\n",
        "      for i in range(npontos):\n",
        "        if(distancias[i,c] > dist):\n",
        "          idponto = i\n",
        "          dist = distancias[i, c]\n",
        "    C.append(idponto)\n",
        "  return C"
      ]
    },
    {
      "cell_type": "markdown",
      "metadata": {
        "id": "Hh6o9W1U5H2O"
      },
      "source": [
        "#### Define o indice do cluster para cada um dos dados"
      ]
    },
    {
      "cell_type": "code",
      "execution_count": 63,
      "metadata": {
        "id": "RuUoP7Y74rjp"
      },
      "outputs": [],
      "source": [
        "def cluster_dados(pontos, centros, distancias):\n",
        "  labels = []\n",
        "  for i in range(pontos.shape[0]):\n",
        "    dist_centro = float('inf')\n",
        "    id_cluster = 0\n",
        "    for c in centros:\n",
        "      if(distancias[i, c] < dist_centro):\n",
        "        dist_centro = distancias[i, c]\n",
        "        id_cluster = c\n",
        "    labels.append(id_cluster)\n",
        "\n",
        "  return labels"
      ]
    },
    {
      "cell_type": "markdown",
      "metadata": {
        "id": "B4c1y01ot1kx"
      },
      "source": [
        "#### Cálculo do raio da solução"
      ]
    },
    {
      "cell_type": "code",
      "execution_count": 64,
      "metadata": {
        "id": "ciBf5FsNuBGz"
      },
      "outputs": [],
      "source": [
        "def raio(labels, distancias):\n",
        "  raio = -1\n",
        "  for i in range(len(labels)):\n",
        "    raio = max(raio, distancias[i,labels[i]])\n",
        "\n",
        "  return raio"
      ]
    },
    {
      "cell_type": "markdown",
      "metadata": {
        "id": "K7wiagZkg542"
      },
      "source": [
        "#### Experimentos com o kcentros1"
      ]
    },
    {
      "cell_type": "code",
      "execution_count": 65,
      "metadata": {
        "id": "L3kwPEZ5s7C5"
      },
      "outputs": [],
      "source": [
        "def experimentos_kcentros1(m_dist, npontos,  X, y_map, k, t_dist, id_dataset):\n",
        "  ref = [0.05, 0.1, 0.15, 0.2, 0.25]\n",
        "  results = []\n",
        "  for i in range(5):\n",
        "    tmp_exec_kmeans = []\n",
        "    silhueta_kmeans = []\n",
        "    indice_rand_kmeans = []\n",
        "    raio_exec_kmeans = []\n",
        "\n",
        "    for j in range(30):\n",
        "      start_time = time.time()\n",
        "\n",
        "      C = kcentros1(npontos, m_dist, k, ref[i])\n",
        "\n",
        "      end_time = time.time()\n",
        "      execution_time = end_time - start_time\n",
        "\n",
        "      c_dados = cluster_dados(X, C, m_dist)\n",
        "\n",
        "      tmp_exec_kmeans.append(execution_time)\n",
        "      if len(np.unique(c_dados)) > 1:\n",
        "        silhueta_kmeans.append(silhouette_score(X, c_dados))\n",
        "      else:\n",
        "        silhueta_kmeans.append(-1)\n",
        "      indice_rand_kmeans.append(adjusted_rand_score(y_map, c_dados))\n",
        "\n",
        "      raio_exec_kmeans.append(raio(c_dados, m_dist))\n",
        "\n",
        "    results.append({\n",
        "        'Dataset': id_dataset,\n",
        "        'Algoritmo': 'K-Centros 1',\n",
        "        'Referência': ref[i],\n",
        "        'Tempo Execução (s)': f\"{np.mean(tmp_exec_kmeans):.4f} ± {np.std(tmp_exec_kmeans):.4f}\",\n",
        "        'Silhueta': f\"{np.mean(silhueta_kmeans):.4f} ± {np.std(silhueta_kmeans):.4f}\",\n",
        "        'Índice de Rand Ajustado': f\"{np.mean(indice_rand_kmeans):.4f} ± {np.std(indice_rand_kmeans):.4f}\",\n",
        "        'Raio Máximo': f\"{np.mean(raio_exec_kmeans):.4f} ± {np.std(raio_exec_kmeans):.4f}\"\n",
        "    })\n",
        "\n",
        "  df = pd.DataFrame(results)\n",
        "  df.to_csv(f'dataset_exec_kcentros1_{t_dist}_dataset_{id_dataset}.csv', index=False)"
      ]
    },
    {
      "cell_type": "markdown",
      "metadata": {
        "id": "wV0nfiHUhBXR"
      },
      "source": [
        "#### Experimentos com o kcentros2"
      ]
    },
    {
      "cell_type": "code",
      "execution_count": 66,
      "metadata": {
        "id": "4o_umZj-hAOr"
      },
      "outputs": [],
      "source": [
        "def experimentos_kcentros2(m_dist, npontos, X, y_map, k, t_dist, id_dataset):\n",
        "    tmp_exec_kmeans = []\n",
        "    silhueta_kmeans = []\n",
        "    indice_rand_kmeans = []\n",
        "    raio_exec_kmeans = []\n",
        "\n",
        "    for i in range(30):\n",
        "      start_time = time.time()\n",
        "\n",
        "      C = kcentros2(k, npontos, m_dist)\n",
        "\n",
        "      end_time = time.time()\n",
        "      execution_time = end_time - start_time\n",
        "\n",
        "      c_dados = cluster_dados(X, C, m_dist)\n",
        "\n",
        "      tmp_exec_kmeans.append(execution_time)\n",
        "      silhueta_kmeans.append(silhouette_score(X, c_dados))\n",
        "      indice_rand_kmeans.append(adjusted_rand_score(y_map, c_dados))\n",
        "\n",
        "      raio_exec_kmeans.append(raio(c_dados, m_dist))\n",
        "\n",
        "    data = {\n",
        "        'Dataset': id_dataset,\n",
        "        'Algoritmo': 'K-Centros 2',\n",
        "        'Tempo Execução (s)': f\"{np.mean(tmp_exec_kmeans):.4f} ± {np.std(tmp_exec_kmeans):.4f}\",\n",
        "        'Silhueta': f\"{np.mean(silhueta_kmeans):.4f} ± {np.std(silhueta_kmeans):.4f}\",\n",
        "        'Índice de Rand Ajustado': f\"{np.mean(indice_rand_kmeans):.4f} ± {np.std(indice_rand_kmeans):.4f}\",\n",
        "        'Raio Máximo': f\"{np.mean(raio_exec_kmeans):.4f} ± {np.std(raio_exec_kmeans):.4f}\"\n",
        "    }\n",
        "\n",
        "    df = pd.DataFrame(data, index=[0])\n",
        "    df.to_csv(f'dataset_exec_kcentros2_{t_dist}_dataset_{id_dataset}.csv', index=False)"
      ]
    },
    {
      "cell_type": "markdown",
      "metadata": {
        "id": "f-LRiOq0rMHB"
      },
      "source": [
        "#### Avaliação algoritmos aproximados"
      ]
    },
    {
      "cell_type": "markdown",
      "metadata": {
        "id": "gOcEWRl4aI_R"
      },
      "source": [
        "##### Dados reais"
      ]
    },
    {
      "cell_type": "markdown",
      "metadata": {
        "id": "ojl9VZz8J-O6"
      },
      "source": [
        "**Pré processamento dos dataset 1**"
      ]
    },
    {
      "cell_type": "code",
      "execution_count": 67,
      "metadata": {
        "id": "P05cFXBiQ6aK"
      },
      "outputs": [],
      "source": [
        "# Imagens das variedades de passas Kecimen e Besni foram obtidas com CVS.\n",
        "# Um total de 900 passas foram usadas, incluindo 450 de ambas as variedades, e 7 características morfológicas foram extraídas.\n",
        "\n",
        "# fetch dataset\n",
        "raisin = fetch_ucirepo(id=850)\n",
        "\n",
        "# data (as pandas dataframes)\n",
        "X = raisin.data.features\n",
        "y = raisin.data.targets"
      ]
    },
    {
      "cell_type": "code",
      "execution_count": 68,
      "metadata": {
        "id": "im8ffd7p-lrj"
      },
      "outputs": [],
      "source": [
        "X = X.dropna()\n",
        "y = y.loc[X.index]\n",
        "k = y.nunique()\n",
        "n_pontos = X.shape[0]\n",
        "id_dataset = 'Raising'"
      ]
    },
    {
      "cell_type": "code",
      "execution_count": 69,
      "metadata": {
        "colab": {
          "base_uri": "https://localhost:8080/"
        },
        "id": "WMKJPvscJgQc",
        "outputId": "9d4bd50a-9228-41f9-e90c-ef7e2e15d704"
      },
      "outputs": [
        {
          "output_type": "execute_result",
          "data": {
            "text/plain": [
              "array(['Kecimen', 'Besni'], dtype=object)"
            ]
          },
          "metadata": {},
          "execution_count": 69
        }
      ],
      "source": [
        "y['Class'].unique()"
      ]
    },
    {
      "cell_type": "code",
      "execution_count": 70,
      "metadata": {
        "id": "r3K7UrFFKEzb"
      },
      "outputs": [],
      "source": [
        "mapping = {'Kecimen': 0, 'Besni': 1}\n",
        "y_map = y['Class'].map(mapping)"
      ]
    },
    {
      "cell_type": "code",
      "execution_count": 71,
      "metadata": {
        "id": "H_EOlho1e98n"
      },
      "outputs": [],
      "source": [
        "# Cálculo da matriz de distâncias\n",
        "p = 1\n",
        "X_dist_manhattan = matriz_dist(X, p)"
      ]
    },
    {
      "cell_type": "code",
      "execution_count": 72,
      "metadata": {
        "id": "f99r-PQ_kFMs"
      },
      "outputs": [],
      "source": [
        "# Cálculo matriz de distâncias\n",
        "p = 2\n",
        "X_dist_euclidiana = matriz_dist(X, p)"
      ]
    },
    {
      "cell_type": "code",
      "execution_count": 73,
      "metadata": {
        "id": "YsLadz4EkBah"
      },
      "outputs": [],
      "source": [
        "#Aplicação algoritmo k centros 1 distância de Manhattan\n",
        "experimentos_kcentros1(X_dist_manhattan, n_pontos,  X, y_map, k, 'Manhattan', id_dataset)\n",
        "\n",
        "# Aplicação algoritmo k centros 1 distância Euclidiana\n",
        "experimentos_kcentros1(X_dist_euclidiana , n_pontos,  X, y_map, k, 'Euclidiana', id_dataset)\n",
        "\n",
        "# Aplicação algoritmo kcentros 2 distância de Manhattan\n",
        "experimentos_kcentros2(X_dist_manhattan, n_pontos, X, y_map, k, 'Manhattan', id_dataset)\n",
        "\n",
        "# Aplicação algoritmo kcentros 2 distância Euclidiana\n",
        "experimentos_kcentros2(X_dist_euclidiana , n_pontos, X, y_map, k, 'Euclidiana', id_dataset)"
      ]
    },
    {
      "cell_type": "markdown",
      "metadata": {
        "id": "-Rf849LZMVQr"
      },
      "source": [
        "**Pré processamento dataset 2**"
      ]
    },
    {
      "cell_type": "code",
      "execution_count": 74,
      "metadata": {
        "id": "CgCfvYqmXFIp"
      },
      "outputs": [],
      "source": [
        "# Dados de imagem descritos por atributos numéricos de alto nível, 7 classes\n",
        "\n",
        "# fetch dataset\n",
        "image_segmentation = fetch_ucirepo(id=50)\n",
        "\n",
        "# data (as pandas dataframes)\n",
        "X = image_segmentation.data.features\n",
        "y = image_segmentation.data.targets"
      ]
    },
    {
      "cell_type": "code",
      "execution_count": 75,
      "metadata": {
        "id": "yuTHoTGHFuhQ"
      },
      "outputs": [],
      "source": [
        "X = X.dropna()\n",
        "y = y.loc[X.index]\n",
        "k = y.nunique()\n",
        "n_pontos = X.shape[0]\n",
        "id_dataset = 'Image Segmentation'"
      ]
    },
    {
      "cell_type": "code",
      "execution_count": 76,
      "metadata": {
        "colab": {
          "base_uri": "https://localhost:8080/"
        },
        "id": "wq7haPjRMydH",
        "outputId": "2d0a8a96-04ee-430f-fbfe-872591e3db60"
      },
      "outputs": [
        {
          "output_type": "execute_result",
          "data": {
            "text/plain": [
              "array(['BRICKFACE', 'SKY', 'FOLIAGE', 'CEMENT', 'WINDOW', 'PATH', 'GRASS'],\n",
              "      dtype=object)"
            ]
          },
          "metadata": {},
          "execution_count": 76
        }
      ],
      "source": [
        "y['class'].unique()"
      ]
    },
    {
      "cell_type": "code",
      "execution_count": 77,
      "metadata": {
        "id": "Mvg22UtHM7-k"
      },
      "outputs": [],
      "source": [
        "mapping = {'BRICKFACE': 0, 'SKY': 1, 'FOLIAGE':2, 'CEMENT': 3, 'WINDOW': 4, 'PATH': 5, 'GRASS': 6}\n",
        "y_map = y['class'].map(mapping)"
      ]
    },
    {
      "cell_type": "code",
      "execution_count": 78,
      "metadata": {
        "id": "TEkk3wDFvvln"
      },
      "outputs": [],
      "source": [
        "# Cálculo da matriz de distâncias\n",
        "p = 1\n",
        "X_dist_manhattan = matriz_dist(X, p)"
      ]
    },
    {
      "cell_type": "code",
      "execution_count": 79,
      "metadata": {
        "id": "mhSgYMcNvygr"
      },
      "outputs": [],
      "source": [
        "# Cálculo matriz de distâncias\n",
        "p = 2\n",
        "X_dist_euclidiana = matriz_dist(X, p)"
      ]
    },
    {
      "cell_type": "code",
      "execution_count": 80,
      "metadata": {
        "id": "eE1t-cRtv3-r"
      },
      "outputs": [],
      "source": [
        "# Aplicação algoritmo k centros 1 distância de Manhattan\n",
        "experimentos_kcentros1(X_dist_manhattan, n_pontos,  X, y_map, k, 'Manhattan', id_dataset)\n",
        "\n",
        "# Aplicação algoritmo k centros 1 distância Euclidiana\n",
        "experimentos_kcentros1(X_dist_euclidiana , n_pontos,  X, y_map, k,'Euclidiana', id_dataset)\n",
        "\n",
        "# Aplicação algoritmo kcentros 2 distância de Manhattan\n",
        "experimentos_kcentros2(X_dist_manhattan, n_pontos, X, y_map , k,'Manhattan', id_dataset)\n",
        "\n",
        "#Aplicação algoritmo kcentros 2 distância Euclidiana\n",
        "experimentos_kcentros2(X_dist_euclidiana , n_pontos, X, y_map, k,'Euclidiana', id_dataset)"
      ]
    },
    {
      "cell_type": "markdown",
      "metadata": {
        "id": "cqpYEr96NUWP"
      },
      "source": [
        "**Pré processamento dataset 3**"
      ]
    },
    {
      "cell_type": "code",
      "execution_count": 81,
      "metadata": {
        "id": "8j54UtI_ZKAj"
      },
      "outputs": [],
      "source": [
        "# Dados foram coletados de diferentes hospitais, clínicas comunitárias e unidades\n",
        "# de saúde materna de áreas rurais de Bangladesh por meio do sistema de monitoramento de risco baseado em IoT.\n",
        "\n",
        "# fetch dataset\n",
        "maternal_health_risk = fetch_ucirepo(id=863)\n",
        "\n",
        "# data (as pandas dataframes)\n",
        "X = maternal_health_risk.data.features\n",
        "y = maternal_health_risk.data.targets"
      ]
    },
    {
      "cell_type": "code",
      "execution_count": 82,
      "metadata": {
        "id": "NpDh8F4wGU3l"
      },
      "outputs": [],
      "source": [
        "X = X.dropna()\n",
        "y = y.loc[X.index]\n",
        "k = y.nunique()\n",
        "n_pontos = X.shape[0]\n",
        "id_dataset = 'Maternal Health Risk'"
      ]
    },
    {
      "cell_type": "code",
      "execution_count": 83,
      "metadata": {
        "colab": {
          "base_uri": "https://localhost:8080/"
        },
        "id": "N1GGEJorNdTX",
        "outputId": "0b2d3845-982f-40bf-f81b-853bdea03f7e"
      },
      "outputs": [
        {
          "output_type": "execute_result",
          "data": {
            "text/plain": [
              "array(['high risk', 'low risk', 'mid risk'], dtype=object)"
            ]
          },
          "metadata": {},
          "execution_count": 83
        }
      ],
      "source": [
        "y['RiskLevel'].unique()"
      ]
    },
    {
      "cell_type": "code",
      "execution_count": 84,
      "metadata": {
        "id": "oaQu4cSbNncA"
      },
      "outputs": [],
      "source": [
        "mapping = {'high risk': 0, 'low risk': 1, 'mid risk':2}\n",
        "y_map = y['RiskLevel'].map(mapping)"
      ]
    },
    {
      "cell_type": "code",
      "execution_count": 85,
      "metadata": {
        "id": "yXLMH1HKxvTO"
      },
      "outputs": [],
      "source": [
        "# Cálculo da matriz de distâncias\n",
        "p = 1\n",
        "X_dist_manhattan = matriz_dist(X, p)\n",
        "p = 2\n",
        "X_dist_euclidiana = matriz_dist(X, p)"
      ]
    },
    {
      "cell_type": "code",
      "execution_count": 86,
      "metadata": {
        "id": "sR_8BTB6x2FQ"
      },
      "outputs": [],
      "source": [
        "# Aplicação algoritmo k centros 1 distância de Manhattan\n",
        "experimentos_kcentros1(X_dist_manhattan, n_pontos,  X, y_map, k, 'Manhattan', id_dataset)\n",
        "\n",
        "# Aplicação algoritmo k centros 1 distância Euclidiana\n",
        "experimentos_kcentros1(X_dist_euclidiana , n_pontos,  X, y_map, k,'Euclidiana', id_dataset)\n",
        "\n",
        "# Aplicação algoritmo kcentros 2 distância de Manhattan\n",
        "experimentos_kcentros2(X_dist_manhattan, n_pontos, X, y_map, k, 'Manhattan', id_dataset)\n",
        "\n",
        "#Aplicação algoritmo kcentros 2 distância Euclidiana\n",
        "experimentos_kcentros2(X_dist_euclidiana , n_pontos, X, y_map, k,'Euclidiana', id_dataset)"
      ]
    },
    {
      "cell_type": "markdown",
      "metadata": {
        "id": "Yomr96qvN7Mp"
      },
      "source": [
        "**Pré processamento dataset 4**"
      ]
    },
    {
      "cell_type": "code",
      "execution_count": 87,
      "metadata": {
        "id": "30myvDg_Dzhc"
      },
      "outputs": [],
      "source": [
        "# Discriminação de massas mamográficas benignas e malignas com base nos atributos BI-RADS e na idade do paciente.\n",
        "\n",
        "# fetch dataset\n",
        "mammographic_mass = fetch_ucirepo(id=161)\n",
        "\n",
        "# data (as pandas dataframes)\n",
        "X = mammographic_mass.data.features\n",
        "y = mammographic_mass.data.targets"
      ]
    },
    {
      "cell_type": "code",
      "execution_count": 88,
      "metadata": {
        "id": "UBZqzcDPD9ue"
      },
      "outputs": [],
      "source": [
        "X = X.dropna()\n",
        "y = y.loc[X.index]\n",
        "k = y.nunique()\n",
        "n_pontos = X.shape[0]\n",
        "id_dataset = 'Mammographic Mass Data'"
      ]
    },
    {
      "cell_type": "code",
      "execution_count": 89,
      "metadata": {
        "id": "LTnt78Pbx6Ap"
      },
      "outputs": [],
      "source": [
        "# Cálculo da matriz de distâncias\n",
        "p = 1\n",
        "X_dist_manhattan = matriz_dist(X, p)\n",
        "p = 2\n",
        "X_dist_euclidiana = matriz_dist(X, p)"
      ]
    },
    {
      "cell_type": "code",
      "source": [
        "# Aplicação algoritmo k centros 1 distância de Manhattan\n",
        "experimentos_kcentros1(X_dist_manhattan, n_pontos,  X, y.squeeze(), k,'Manhattan', id_dataset)\n",
        "\n",
        "# Aplicação algoritmo k centros 1 distância Euclidiana\n",
        "experimentos_kcentros1(X_dist_euclidiana , n_pontos,  X, y.squeeze(), k, 'Euclidiana', id_dataset)\n",
        "\n",
        "# Aplicação algoritmo kcentros 2 distância de Manhattan\n",
        "experimentos_kcentros2(X_dist_manhattan, n_pontos, X, y.squeeze(), k, 'Manhattan', id_dataset)\n",
        "\n",
        "#Aplicação algoritmo kcentros 2 distância Euclidiana\n",
        "experimentos_kcentros2(X_dist_euclidiana , n_pontos, X, y.squeeze(),k ,'Euclidiana', id_dataset)"
      ],
      "metadata": {
        "id": "y2BI1D2kcVrh"
      },
      "execution_count": 90,
      "outputs": []
    },
    {
      "cell_type": "markdown",
      "metadata": {
        "id": "3kPfoMI9OJtz"
      },
      "source": [
        "**Pré processamento dataset 5**"
      ]
    },
    {
      "cell_type": "code",
      "execution_count": 91,
      "metadata": {
        "id": "nTz70z4cEIWI"
      },
      "outputs": [],
      "source": [
        "# Usamos programas de pré-processamento disponibilizados pelo NIST para\n",
        "# extrair bitmaps normalizados de dígitos manuscritos de um formulário pré-impresso.\n",
        "\n",
        "# fetch dataset\n",
        "optical_recognition_of_handwritten_digits = fetch_ucirepo(id=80)\n",
        "\n",
        "# data (as pandas dataframes)\n",
        "X = optical_recognition_of_handwritten_digits.data.features\n",
        "y = optical_recognition_of_handwritten_digits.data.targets"
      ]
    },
    {
      "cell_type": "code",
      "execution_count": 92,
      "metadata": {
        "id": "aHhDPG7yEOVe"
      },
      "outputs": [],
      "source": [
        "X = X.dropna()\n",
        "y = y.loc[X.index]\n",
        "k = y.nunique()\n",
        "n_pontos = X.shape[0]\n",
        "id_dataset = 'Optional Recognition of Handwritten Digits'"
      ]
    },
    {
      "cell_type": "code",
      "execution_count": 93,
      "metadata": {
        "id": "gZ12TXCgyB6I"
      },
      "outputs": [],
      "source": [
        "# Cálculo da matriz de distâncias\n",
        "p = 1\n",
        "X_dist_manhattan = matriz_dist(X, p)\n",
        "p = 2\n",
        "X_dist_euclidiana = matriz_dist(X, p)"
      ]
    },
    {
      "cell_type": "code",
      "execution_count": 94,
      "metadata": {
        "id": "ooMAD302yFi6"
      },
      "outputs": [],
      "source": [
        "# Aplicação algoritmo k centros 1 distância de Manhattan\n",
        "experimentos_kcentros1(X_dist_manhattan, n_pontos,  X, y.squeeze(), k, 'Manhattan', id_dataset)\n",
        "\n",
        "# Aplicação algoritmo k centros 1 distância Euclidiana\n",
        "experimentos_kcentros1(X_dist_euclidiana , n_pontos,  X, y.squeeze(), k, 'Euclidiana', id_dataset)\n",
        "\n",
        "# Aplicação algoritmo kcentros 2 distância de Manhattan\n",
        "experimentos_kcentros2(X_dist_manhattan, n_pontos, X, y.squeeze(), k, 'Manhattan', id_dataset)\n",
        "\n",
        "#Aplicação algoritmo kcentros 2 distância Euclidiana\n",
        "experimentos_kcentros2(X_dist_euclidiana , n_pontos, X, y.squeeze(), k,'Euclidiana', id_dataset)"
      ]
    },
    {
      "cell_type": "markdown",
      "metadata": {
        "id": "-h_8fCFBO3FN"
      },
      "source": [
        "**Pré processamento dataset 6**"
      ]
    },
    {
      "cell_type": "code",
      "execution_count": 95,
      "metadata": {
        "id": "gDTlQHUr42Hp"
      },
      "outputs": [],
      "source": [
        "# Objetos 3D dentro de uma imagem 2D pela aplicação de um conjunto de extratores\n",
        "# de características de forma às silhuetas 2D dos objetos.\n",
        "\n",
        "# buscar conjunto de dados\n",
        "statlog_vehicle_silhouettes = fetch_ucirepo(id=149)\n",
        "\n",
        "# dados (como dataframes pandas)\n",
        "X = statlog_vehicle_silhouettes.data.features\n",
        "y = statlog_vehicle_silhouettes.data.targets"
      ]
    },
    {
      "cell_type": "code",
      "execution_count": 96,
      "metadata": {
        "id": "xoAS8UhZ44aj"
      },
      "outputs": [],
      "source": [
        "X = X.dropna()\n",
        "y = y.loc[X.index]\n",
        "k = y.nunique()\n",
        "n_pontos = X.shape[0]\n",
        "id_dataset = 'Statlog Vehicle Silhouettes'"
      ]
    },
    {
      "cell_type": "code",
      "execution_count": 97,
      "metadata": {
        "colab": {
          "base_uri": "https://localhost:8080/"
        },
        "id": "bR0OuNTRO9UH",
        "outputId": "9a6799b6-7f9f-4c59-867c-33141265db37"
      },
      "outputs": [
        {
          "output_type": "execute_result",
          "data": {
            "text/plain": [
              "array(['van', 'saab', 'bus', 'opel'], dtype=object)"
            ]
          },
          "metadata": {},
          "execution_count": 97
        }
      ],
      "source": [
        "y['class'].unique()"
      ]
    },
    {
      "cell_type": "code",
      "execution_count": 98,
      "metadata": {
        "id": "bAB0WSQ8PgCi"
      },
      "outputs": [],
      "source": [
        "mapping = {'van': 0, 'saab': 1, 'bus':2, 'opel': 3}\n",
        "y_map = y['class'].map(mapping)"
      ]
    },
    {
      "cell_type": "code",
      "execution_count": 99,
      "metadata": {
        "id": "04CP-yE0yNjr"
      },
      "outputs": [],
      "source": [
        "# Cálculo da matriz de distâncias\n",
        "p = 1\n",
        "X_dist_manhattan = matriz_dist(X, p)\n",
        "p = 2\n",
        "X_dist_euclidiana = matriz_dist(X, p)"
      ]
    },
    {
      "cell_type": "code",
      "execution_count": 100,
      "metadata": {
        "id": "t7kY2CAryL2G"
      },
      "outputs": [],
      "source": [
        "# Aplicação algoritmo k centros 1 distância de Manhattan\n",
        "experimentos_kcentros1(X_dist_manhattan, n_pontos,  X, y_map, k, 'Manhattan', id_dataset)\n",
        "\n",
        "# Aplicação algoritmo k centros 1 distância Euclidiana\n",
        "experimentos_kcentros1(X_dist_euclidiana , n_pontos,  X, y_map, k, 'Euclidiana', id_dataset)\n",
        "\n",
        "# Aplicação algoritmo kcentros 2 distância de Manhattan\n",
        "experimentos_kcentros2(X_dist_manhattan, n_pontos, X, y_map, k, 'Manhattan', id_dataset)\n",
        "\n",
        "#Aplicação algoritmo kcentros 2 distância Euclidiana\n",
        "experimentos_kcentros2(X_dist_euclidiana , n_pontos, X, y_map, k, 'Euclidiana', id_dataset)"
      ]
    },
    {
      "cell_type": "markdown",
      "metadata": {
        "id": "S_8wEIFWPur6"
      },
      "source": [
        "**Pré processamento dataset 7**"
      ]
    },
    {
      "cell_type": "code",
      "execution_count": 101,
      "metadata": {
        "id": "RzXuqW-UCWUr"
      },
      "outputs": [],
      "source": [
        "# Predição dos locais de localização celular de proteínas\n",
        "\n",
        "# fetch dataset\n",
        "yeast = fetch_ucirepo(id=110)\n",
        "\n",
        "# data (as pandas dataframes)\n",
        "X = yeast.data.features\n",
        "y = yeast.data.targets"
      ]
    },
    {
      "cell_type": "code",
      "execution_count": 102,
      "metadata": {
        "id": "1uWk8h5WCXc1"
      },
      "outputs": [],
      "source": [
        "X = X.dropna()\n",
        "y = y.loc[X.index]\n",
        "k = y.nunique()\n",
        "n_pontos = X.shape[0]\n",
        "id_dataset = 'Yeast'"
      ]
    },
    {
      "cell_type": "code",
      "execution_count": 103,
      "metadata": {
        "colab": {
          "base_uri": "https://localhost:8080/"
        },
        "id": "HMbDbrcNP5Ks",
        "outputId": "692c33a6-3329-4fcc-fe01-4640210c3a1a"
      },
      "outputs": [
        {
          "output_type": "execute_result",
          "data": {
            "text/plain": [
              "array(['MIT', 'NUC', 'CYT', 'ME1', 'EXC', 'ME2', 'ME3', 'VAC', 'POX',\n",
              "       'ERL'], dtype=object)"
            ]
          },
          "metadata": {},
          "execution_count": 103
        }
      ],
      "source": [
        "y['localization_site'].unique()"
      ]
    },
    {
      "cell_type": "code",
      "execution_count": 104,
      "metadata": {
        "id": "koZv2_7tQAQH"
      },
      "outputs": [],
      "source": [
        "mapping = {'MIT': 0, 'NUC': 1, 'CYT':2, 'ME1': 3, 'EXC': 4, 'ME2': 5, 'ME3':6, 'VAC': 7, 'POX': 8, 'ERL': 9}\n",
        "y_map = y['localization_site'].map(mapping)"
      ]
    },
    {
      "cell_type": "code",
      "execution_count": 105,
      "metadata": {
        "id": "Ji3LkZ2jyTUW"
      },
      "outputs": [],
      "source": [
        "# Cálculo da matriz de distâncias\n",
        "p = 1\n",
        "X_dist_manhattan = matriz_dist(X, p)\n",
        "p = 2\n",
        "X_dist_euclidiana = matriz_dist(X, p)"
      ]
    },
    {
      "cell_type": "code",
      "execution_count": 106,
      "metadata": {
        "id": "IDqN4IU3yWFu"
      },
      "outputs": [],
      "source": [
        "# Aplicação algoritmo k centros 1 distância de Manhattan\n",
        "experimentos_kcentros1(X_dist_manhattan, n_pontos,  X, y_map, k, 'Manhattan', id_dataset)\n",
        "\n",
        "# Aplicação algoritmo k centros 1 distância Euclidiana\n",
        "experimentos_kcentros1(X_dist_euclidiana , n_pontos,  X, y_map, k, 'Euclidiana', id_dataset)\n",
        "\n",
        "# Aplicação algoritmo kcentros 2 distância de Manhattan\n",
        "experimentos_kcentros2(X_dist_manhattan, n_pontos, X, y_map, k, 'Manhattan', id_dataset)\n",
        "\n",
        "#Aplicação algoritmo kcentros 2 distância Euclidiana\n",
        "experimentos_kcentros2(X_dist_euclidiana , n_pontos, X, y_map, k, 'Euclidiana', id_dataset)"
      ]
    },
    {
      "cell_type": "markdown",
      "metadata": {
        "id": "BrNLkMP3QaKX"
      },
      "source": [
        "**Pré processamento dataset 8**"
      ]
    },
    {
      "cell_type": "code",
      "execution_count": 113,
      "metadata": {
        "id": "ErsXaa1MDsW4"
      },
      "outputs": [],
      "source": [
        "# fetch dataset\n",
        "blood_transfusion_service_center = fetch_ucirepo(id=176)\n",
        "\n",
        "# data (as pandas dataframes)\n",
        "X = blood_transfusion_service_center.data.features\n",
        "y = blood_transfusion_service_center.data.targets\n"
      ]
    },
    {
      "cell_type": "code",
      "execution_count": 114,
      "metadata": {
        "id": "zaYqH5QFDtOu"
      },
      "outputs": [],
      "source": [
        "X = X.dropna()\n",
        "y = y.loc[X.index]\n",
        "k = y.nunique()\n",
        "n_pontos = X.shape[0]\n",
        "id_dataset = 'Blood Transfusion Service Center Data'"
      ]
    },
    {
      "cell_type": "code",
      "execution_count": 115,
      "metadata": {
        "id": "7oyOqdckycc9"
      },
      "outputs": [],
      "source": [
        "# Cálculo da matriz de distâncias\n",
        "p = 1\n",
        "X_dist_manhattan = matriz_dist(X, p)\n",
        "p = 2\n",
        "X_dist_euclidiana = matriz_dist(X, p)"
      ]
    },
    {
      "cell_type": "code",
      "execution_count": 118,
      "metadata": {
        "id": "BuY1p2HVyezr"
      },
      "outputs": [],
      "source": [
        "# Aplicação algoritmo k centros 1 distância de Manhattan\n",
        "experimentos_kcentros1(X_dist_manhattan, n_pontos,  X, y.squeeze(), k, 'Manhattan', id_dataset)\n",
        "\n",
        "# Aplicação algoritmo k centros 1 distância Euclidiana\n",
        "experimentos_kcentros1(X_dist_euclidiana , n_pontos,  X, y.squeeze(), k, 'Euclidiana', id_dataset)\n",
        "\n",
        "# Aplicação algoritmo kcentros 2 distância de Manhattan\n",
        "experimentos_kcentros2(X_dist_manhattan, n_pontos, X, y.squeeze(), k, 'Manhattan', id_dataset)\n",
        "\n",
        "#Aplicação algoritmo kcentros 2 distância Euclidiana\n",
        "experimentos_kcentros2(X_dist_euclidiana , n_pontos, X, y.squeeze(), k, 'Euclidiana', id_dataset)"
      ]
    },
    {
      "cell_type": "markdown",
      "metadata": {
        "id": "qzNFSOo4Qlq0"
      },
      "source": [
        "**Pré processamento dataset 9**"
      ]
    },
    {
      "cell_type": "code",
      "execution_count": 119,
      "metadata": {
        "id": "4hKg-L6QFzOs"
      },
      "outputs": [],
      "source": [
        "# Preveja a idade do abalone a partir de medidas físicas\n",
        "\n",
        "# fetch dataset\n",
        "abalone = fetch_ucirepo(id=1)\n",
        "\n",
        "# data (as pandas dataframes)\n",
        "X = abalone.data.features\n",
        "y = abalone.data.targets"
      ]
    },
    {
      "cell_type": "code",
      "execution_count": 120,
      "metadata": {
        "id": "wfIeLOAtSPcz"
      },
      "outputs": [],
      "source": [
        "X = X.drop('Sex', axis = 1)"
      ]
    },
    {
      "cell_type": "code",
      "execution_count": 121,
      "metadata": {
        "id": "GHre4e--SnBm"
      },
      "outputs": [],
      "source": [
        "X = X.dropna()\n",
        "y = y.loc[X.index]\n",
        "k = y.nunique()\n",
        "n_pontos = X.shape[0]\n",
        "id_dataset = 'Abalone'"
      ]
    },
    {
      "cell_type": "code",
      "execution_count": 122,
      "metadata": {
        "id": "M053JgomF0Ba"
      },
      "outputs": [],
      "source": [
        "# Cálculo da matriz de distâncias\n",
        "p = 1\n",
        "X_dist_manhattan = matriz_dist(X, p)\n",
        "p = 2\n",
        "X_dist_euclidiana = matriz_dist(X, p)"
      ]
    },
    {
      "cell_type": "code",
      "execution_count": 124,
      "metadata": {
        "id": "Ue5bT7Fmyofq"
      },
      "outputs": [],
      "source": [
        "# Aplicação algoritmo k centros 1 distância de Manhattan\n",
        "experimentos_kcentros1(X_dist_manhattan, n_pontos,  X, y.squeeze(), k, 'Manhattan', id_dataset)\n",
        "\n",
        "# Aplicação algoritmo k centros 1 distância Euclidiana\n",
        "experimentos_kcentros1(X_dist_euclidiana , n_pontos,  X, y.squeeze(), k, 'Euclidiana', id_dataset)\n",
        "\n",
        "# Aplicação algoritmo kcentros 2 distância de Manhattan\n",
        "experimentos_kcentros2(X_dist_manhattan, n_pontos, X, y.squeeze(), k, 'Manhattan', id_dataset)\n",
        "\n",
        "#Aplicação algoritmo kcentros 2 distância Euclidiana\n",
        "experimentos_kcentros2(X_dist_euclidiana , n_pontos, X, y.squeeze(), k, 'Euclidiana', id_dataset)"
      ]
    },
    {
      "cell_type": "markdown",
      "source": [
        "**Pré processamento dataset 10**"
      ],
      "metadata": {
        "id": "4Jg5noAdqyaG"
      }
    },
    {
      "cell_type": "code",
      "execution_count": 125,
      "metadata": {
        "id": "HkvQueqRIqvQ"
      },
      "outputs": [],
      "source": [
        "# Este conjunto de dados contém recursos extraídos do conjunto de\n",
        "# imagens Messidor para prever se uma imagem contém sinais de retinopatia diabética ou não.\n",
        "\n",
        "# fetch dataset\n",
        "diabetic_retinopathy_debrecen = fetch_ucirepo(id=329)\n",
        "\n",
        "# data (as pandas dataframes)\n",
        "X = diabetic_retinopathy_debrecen.data.features\n",
        "y = diabetic_retinopathy_debrecen.data.targets"
      ]
    },
    {
      "cell_type": "code",
      "execution_count": 126,
      "metadata": {
        "id": "WG880t8BSMHa"
      },
      "outputs": [],
      "source": [
        "X = X.dropna()\n",
        "y = y.loc[X.index]\n",
        "k = y.nunique()\n",
        "n_pontos = X.shape[0]\n",
        "id_dataset = 'Diabetic Retinopathy Debrecen'"
      ]
    },
    {
      "cell_type": "code",
      "execution_count": 127,
      "metadata": {
        "id": "KIl4But8yuLW"
      },
      "outputs": [],
      "source": [
        "# Cálculo da matriz de distâncias\n",
        "p = 1\n",
        "X_dist_manhattan = matriz_dist(X, p)\n",
        "p = 2\n",
        "X_dist_euclidiana = matriz_dist(X, p)"
      ]
    },
    {
      "cell_type": "code",
      "execution_count": 131,
      "metadata": {
        "id": "nVygR6TAyziM"
      },
      "outputs": [],
      "source": [
        "# Aplicação algoritmo k centros 1 distância de Manhattan\n",
        "experimentos_kcentros1(X_dist_manhattan, n_pontos,  X, y.squeeze(), k, 'Manhattan', id_dataset)\n",
        "\n",
        "# Aplicação algoritmo k centros 1 distância Euclidiana\n",
        "experimentos_kcentros1(X_dist_euclidiana , n_pontos,  X, y.squeeze(), k,  'Euclidiana', id_dataset)\n",
        "\n",
        "# Aplicação algoritmo kcentros 2 distância de Manhattan\n",
        "experimentos_kcentros2(X_dist_manhattan, n_pontos, X, y.squeeze(), k, 'Manhattan', id_dataset)\n",
        "\n",
        "#Aplicação algoritmo kcentros 2 distância Euclidiana\n",
        "experimentos_kcentros2(X_dist_euclidiana , n_pontos, X, y.squeeze(), k, 'Euclidiana', id_dataset)"
      ]
    },
    {
      "cell_type": "code",
      "source": [
        "import glob\n",
        "def consolidar_csvs(path, arquivo_saida):\n",
        "    file_pattern = \"dataset_exec_kcentros2_Manhattan_dataset_*.csv\"\n",
        "\n",
        "    files = glob.glob(file_pattern)\n",
        "\n",
        "    dataframes = []\n",
        "\n",
        "    for file in files:\n",
        "        df = pd.read_csv(file)\n",
        "        dataframes.append(df)\n",
        "\n",
        "    df_consolidado = pd.concat(dataframes, ignore_index=True)\n",
        "\n",
        "    df_consolidado.to_csv(arquivo_saida, index=False)"
      ],
      "metadata": {
        "id": "53wjpMrI79s4"
      },
      "execution_count": 136,
      "outputs": []
    },
    {
      "cell_type": "code",
      "source": [
        "consolidar_csvs('.', 'dataset_kcentros2_Manhattan_dataset_dados_reais.csv')"
      ],
      "metadata": {
        "id": "S77TbnZt8B1v"
      },
      "execution_count": 137,
      "outputs": []
    }
  ],
  "metadata": {
    "colab": {
      "provenance": []
    },
    "kernelspec": {
      "display_name": "Python 3",
      "name": "python3"
    },
    "language_info": {
      "name": "python"
    }
  },
  "nbformat": 4,
  "nbformat_minor": 0
}