{
  "cells": [
    {
      "cell_type": "markdown",
      "metadata": {
        "id": "CP0flYrhna18"
      },
      "source": [
        "### Trabalho Prático 2 – Soluções para problemas difíceis"
      ]
    },
    {
      "cell_type": "markdown",
      "metadata": {
        "id": "dxefDJ3fzlwp"
      },
      "source": [
        "#### Importações"
      ]
    },
    {
      "cell_type": "code",
      "execution_count": null,
      "metadata": {
        "collapsed": true,
        "id": "C6zcvh1Tzfg1"
      },
      "outputs": [],
      "source": [
        "import numpy as np\n",
        "from ucimlrepo import fetch_ucirepo\n",
        "import time\n",
        "import warnings\n",
        "from itertools import cycle, islice\n",
        "import matplotlib.pyplot as plt\n",
        "import numpy as np\n",
        "import pandas as pd\n",
        "from sklearn.datasets import make_blobs\n",
        "from sklearn.cluster import KMeans\n",
        "from sklearn.metrics import silhouette_score\n",
        "from sklearn.metrics import adjusted_rand_score"
      ]
    },
    {
      "cell_type": "code",
      "execution_count": null,
      "metadata": {
        "colab": {
          "base_uri": "https://localhost:8080/"
        },
        "id": "wK4ILlacWK0X",
        "outputId": "f27779d5-9145-4d00-bcbd-1d9fc3e1097e"
      },
      "outputs": [
        {
          "output_type": "stream",
          "name": "stdout",
          "text": [
            "Collecting ucimlrepo\n",
            "  Downloading ucimlrepo-0.0.7-py3-none-any.whl.metadata (5.5 kB)\n",
            "Requirement already satisfied: pandas>=1.0.0 in /usr/local/lib/python3.10/dist-packages (from ucimlrepo) (2.1.4)\n",
            "Requirement already satisfied: certifi>=2020.12.5 in /usr/local/lib/python3.10/dist-packages (from ucimlrepo) (2024.7.4)\n",
            "Requirement already satisfied: numpy<2,>=1.22.4 in /usr/local/lib/python3.10/dist-packages (from pandas>=1.0.0->ucimlrepo) (1.26.4)\n",
            "Requirement already satisfied: python-dateutil>=2.8.2 in /usr/local/lib/python3.10/dist-packages (from pandas>=1.0.0->ucimlrepo) (2.8.2)\n",
            "Requirement already satisfied: pytz>=2020.1 in /usr/local/lib/python3.10/dist-packages (from pandas>=1.0.0->ucimlrepo) (2024.1)\n",
            "Requirement already satisfied: tzdata>=2022.1 in /usr/local/lib/python3.10/dist-packages (from pandas>=1.0.0->ucimlrepo) (2024.1)\n",
            "Requirement already satisfied: six>=1.5 in /usr/local/lib/python3.10/dist-packages (from python-dateutil>=2.8.2->pandas>=1.0.0->ucimlrepo) (1.16.0)\n",
            "Downloading ucimlrepo-0.0.7-py3-none-any.whl (8.0 kB)\n",
            "Installing collected packages: ucimlrepo\n",
            "Successfully installed ucimlrepo-0.0.7\n"
          ]
        }
      ],
      "source": [
        "!pip install ucimlrepo"
      ]
    },
    {
      "cell_type": "markdown",
      "metadata": {
        "id": "zFt7HQINnndy"
      },
      "source": [
        " #### Distância de Minkowski"
      ]
    },
    {
      "cell_type": "code",
      "execution_count": null,
      "metadata": {
        "id": "DbrRbCsDnWA_"
      },
      "outputs": [],
      "source": [
        "# p = 1 (Distância Manhattan)\n",
        "# p = 2 (Distância Euclidiana)\n",
        "\n",
        "def minkowski(x, y, p):\n",
        "   return np.power(np.sum(np.abs(x - y) ** p), 1/p)"
      ]
    },
    {
      "cell_type": "code",
      "execution_count": null,
      "metadata": {
        "id": "XPLqlEDepl_L"
      },
      "outputs": [],
      "source": [
        "def matriz_dist(df, p):\n",
        "    npontos = df.shape[0]\n",
        "    distancias = np.zeros((npontos, npontos))\n",
        "\n",
        "    for i in range(npontos):\n",
        "        for j in range(npontos):\n",
        "            ponto1 = df.iloc[i].values\n",
        "            ponto2 = df.iloc[j].values\n",
        "            distancias[i, j] = minkowski(ponto1, ponto2, p)\n",
        "\n",
        "    return distancias"
      ]
    },
    {
      "cell_type": "markdown",
      "metadata": {
        "id": "W-9oFwseor37"
      },
      "source": [
        "#### Algoritmos aproximados K-Centros"
      ]
    },
    {
      "cell_type": "markdown",
      "metadata": {
        "id": "idgw2Hyq0lre"
      },
      "source": [
        "##### Algoritmo baseado em refinamento de intervalos"
      ]
    },
    {
      "cell_type": "code",
      "execution_count": null,
      "metadata": {
        "id": "10hkMC4q0rer"
      },
      "outputs": [],
      "source": [
        "def rvalid(npontos, raio, distancias, k):\n",
        "  s_aux = np.arange(npontos)\n",
        "  C = []\n",
        "  while len(s_aux)>0:\n",
        "    C.append(s_aux[0])\n",
        "    s_aux = s_aux[1:]\n",
        "    s_aux = [x for x in s_aux if distancias[C[-1], x] > 2*raio]\n",
        "  return len(C) <= k.item(), C"
      ]
    },
    {
      "cell_type": "code",
      "execution_count": null,
      "metadata": {
        "id": "wR7UzLasXvoc"
      },
      "outputs": [],
      "source": [
        "def calculo_rmax(distancias, npontos):\n",
        "  rmax = -1\n",
        "  for i in range(npontos):\n",
        "    for j in range(npontos):\n",
        "      rmax = max(rmax, distancias[i, j])\n",
        "  return rmax"
      ]
    },
    {
      "cell_type": "code",
      "execution_count": null,
      "metadata": {
        "id": "BxkLtHOcmdA2"
      },
      "outputs": [],
      "source": [
        "def kcentros1(npontos, distancias,k, ref):\n",
        "  rmax = calculo_rmax(distancias, npontos)\n",
        "  l = 0;\n",
        "  r = rmax;\n",
        "\n",
        "  while((r-l)/rmax > ref):\n",
        "    m = (l+r)/2.0\n",
        "    v, C = rvalid(npontos, m, distancias, k)\n",
        "    if(v):\n",
        "      r = m\n",
        "    else:\n",
        "      l = m+1\n",
        "  while (l != r):\n",
        "    m = (l+r)/2\n",
        "    v, C = rvalid(npontos, m, distancias, k)\n",
        "    if(v):\n",
        "      return C\n",
        "    else:\n",
        "      l = m+1\n",
        "  v, C = rvalid(npontos, l, distancias, k)\n",
        "  return C"
      ]
    },
    {
      "cell_type": "markdown",
      "metadata": {
        "id": "xpHibAopTYgx"
      },
      "source": [
        "Os intervalos considerados serão de 5%, 10%, 15%, 20% e 25%"
      ]
    },
    {
      "cell_type": "markdown",
      "metadata": {
        "id": "vde577VGGWbU"
      },
      "source": [
        "#### Algoritmo baseado na maximização da distância entre os centros previamente escolhidos."
      ]
    },
    {
      "cell_type": "code",
      "execution_count": null,
      "metadata": {
        "id": "SVGtvmBro3L7"
      },
      "outputs": [],
      "source": [
        "def kcentros2(k, npontos, distancias):\n",
        "  if(k.item() > npontos):\n",
        "    return np.arange()\n",
        "  C = [0]\n",
        "  idponto = 0\n",
        "  while(len(C) < k.item()):\n",
        "    dist = -1\n",
        "    for c in C:\n",
        "      for i in range(npontos):\n",
        "        if(distancias[i,c] > dist):\n",
        "          idponto = i\n",
        "          dist = distancias[i, c]\n",
        "    C.append(idponto)\n",
        "  return C"
      ]
    },
    {
      "cell_type": "markdown",
      "metadata": {
        "id": "Hh6o9W1U5H2O"
      },
      "source": [
        "#### Define o indice do cluster para cada um dos dados"
      ]
    },
    {
      "cell_type": "code",
      "execution_count": null,
      "metadata": {
        "id": "RuUoP7Y74rjp"
      },
      "outputs": [],
      "source": [
        "def cluster_dados(pontos, centros, distancias):\n",
        "  labels = []\n",
        "  for i in range(pontos.shape[0]):\n",
        "    dist_centro = float('inf')\n",
        "    id_cluster = 0\n",
        "    for c in centros:\n",
        "      if(distancias[i, c] < dist_centro):\n",
        "        dist_centro = distancias[i, c]\n",
        "        id_cluster = c\n",
        "    labels.append(id_cluster)\n",
        "\n",
        "  return labels"
      ]
    },
    {
      "cell_type": "markdown",
      "metadata": {
        "id": "B4c1y01ot1kx"
      },
      "source": [
        "#### Cálculo do raio da solução"
      ]
    },
    {
      "cell_type": "code",
      "execution_count": null,
      "metadata": {
        "id": "ciBf5FsNuBGz"
      },
      "outputs": [],
      "source": [
        "def raio(labels, distancias):\n",
        "  raio = -1\n",
        "  for i in range(len(labels)):\n",
        "    raio = max(raio, distancias[i,labels[i]])\n",
        "\n",
        "  return raio"
      ]
    },
    {
      "cell_type": "markdown",
      "metadata": {
        "id": "K7wiagZkg542"
      },
      "source": [
        "#### Experimentos com o kcentros1"
      ]
    },
    {
      "cell_type": "code",
      "execution_count": null,
      "metadata": {
        "id": "L3kwPEZ5s7C5"
      },
      "outputs": [],
      "source": [
        "def experimentos_kcentros1(m_dist, npontos,  X, y_map, k, t_dist, id_dataset):\n",
        "  ref = [0.05, 0.1, 0.15, 0.2, 0.25]\n",
        "  for i in range(5):\n",
        "    tmp_exec_kmeans = []\n",
        "    silhueta_kmeans = []\n",
        "    indice_rand_kmeans = []\n",
        "    raio_exec_kmeans = []\n",
        "\n",
        "    for j in range(30):\n",
        "      start_time = time.time()\n",
        "\n",
        "      C = kcentros1(n_pontos, m_dist, k, ref[i])\n",
        "\n",
        "      end_time = time.time()\n",
        "      execution_time = end_time - start_time\n",
        "\n",
        "      c_dados = cluster_dados(X, C, m_dist)\n",
        "\n",
        "      tmp_exec_kmeans.append(execution_time)\n",
        "      silhueta_kmeans.append(silhouette_score(X, c_dados))\n",
        "      indice_rand_kmeans.append(adjusted_rand_score(y_map, c_dados))\n",
        "\n",
        "      raio_exec_kmeans.append(raio(c_dados, m_dist))\n",
        "\n",
        "    # Retornar as médias e desvios-padrão das métricas\n",
        "    data = {\n",
        "        'Algoritmo': 'K-Centros 1',\n",
        "        'Tempo Execução (s)': f\"{np.mean(tmp_exec_kmeans):.4f} ± {np.std(tmp_exec_kmeans):.4f}\",\n",
        "        'Silhueta': f\"{np.mean(silhueta_kmeans):.4f} ± {np.std(silhueta_kmeans):.4f}\",\n",
        "        'Índice de Rand Ajustado': f\"{np.mean(indice_rand_kmeans):.4f} ± {np.std(indice_rand_kmeans):.4f}\",\n",
        "        'Raio Máximo': f\"{np.mean(raio_exec_kmeans):.4f} ± {np.std(raio_exec_kmeans):.4f}\"\n",
        "    }\n",
        "\n",
        "    df = pd.DataFrame(data, index=[0])\n",
        "    df.to_csv(f'dataset_exec_kcentros1_{t_dist}_{[ref[i]]}_dataset_{id_dataset}.csv', index=False)"
      ]
    },
    {
      "cell_type": "markdown",
      "metadata": {
        "id": "wV0nfiHUhBXR"
      },
      "source": [
        "#### Experimentos com o kcentros2"
      ]
    },
    {
      "cell_type": "code",
      "execution_count": null,
      "metadata": {
        "id": "4o_umZj-hAOr"
      },
      "outputs": [],
      "source": [
        "def experimentos_kcentros2(m_dist, npontos, X, y_map, k, t_dist, id_dataset):\n",
        "    tmp_exec_kmeans = []\n",
        "    silhueta_kmeans = []\n",
        "    indice_rand_kmeans = []\n",
        "    raio_exec_kmeans = []\n",
        "\n",
        "    for i in range(30):\n",
        "      start_time = time.time()\n",
        "\n",
        "      C = kcentros2(k, npontos, m_dist)\n",
        "\n",
        "      end_time = time.time()\n",
        "      execution_time = end_time - start_time\n",
        "\n",
        "      c_dados = cluster_dados(X, C, m_dist)\n",
        "\n",
        "      tmp_exec_kmeans.append(execution_time)\n",
        "      silhueta_kmeans.append(silhouette_score(X, c_dados))\n",
        "      indice_rand_kmeans.append(adjusted_rand_score(y_map, c_dados))\n",
        "\n",
        "      raio_exec_kmeans.append(raio(c_dados, m_dist))\n",
        "\n",
        "    data = {\n",
        "        'Algoritmo': 'K-Centros 2',\n",
        "        'Tempo Execução (s)': f\"{np.mean(tmp_exec_kmeans):.4f} ± {np.std(tmp_exec_kmeans):.4f}\",\n",
        "        'Silhueta': f\"{np.mean(silhueta_kmeans):.4f} ± {np.std(silhueta_kmeans):.4f}\",\n",
        "        'Índice de Rand Ajustado': f\"{np.mean(indice_rand_kmeans):.4f} ± {np.std(indice_rand_kmeans):.4f}\",\n",
        "        'Raio Máximo': f\"{np.mean(raio_exec_kmeans):.4f} ± {np.std(raio_exec_kmeans):.4f}\"\n",
        "    }\n",
        "\n",
        "    df = pd.DataFrame(data, index=[0])\n",
        "    df.to_csv(f'dataset_exec_kcentros2_{t_dist}_dataset_{id_dataset}.csv', index=False)"
      ]
    },
    {
      "cell_type": "markdown",
      "metadata": {
        "id": "f-LRiOq0rMHB"
      },
      "source": [
        "#### Avaliação algoritmos aproximados"
      ]
    },
    {
      "cell_type": "markdown",
      "metadata": {
        "id": "gOcEWRl4aI_R"
      },
      "source": [
        "##### Dados reais"
      ]
    },
    {
      "cell_type": "markdown",
      "metadata": {
        "id": "ojl9VZz8J-O6"
      },
      "source": [
        "**Pré processamento dos dados**"
      ]
    },
    {
      "cell_type": "code",
      "execution_count": null,
      "metadata": {
        "id": "P05cFXBiQ6aK"
      },
      "outputs": [],
      "source": [
        "# Imagens das variedades de passas Kecimen e Besni foram obtidas com CVS.\n",
        "# Um total de 900 passas foram usadas, incluindo 450 de ambas as variedades, e 7 características morfológicas foram extraídas.\n",
        "\n",
        "# fetch dataset\n",
        "raisin = fetch_ucirepo(id=850)\n",
        "\n",
        "# data (as pandas dataframes)\n",
        "X = raisin.data.features\n",
        "y = raisin.data.targets"
      ]
    },
    {
      "cell_type": "code",
      "execution_count": null,
      "metadata": {
        "id": "im8ffd7p-lrj"
      },
      "outputs": [],
      "source": [
        "X = X.dropna()\n",
        "y = y.loc[X.index]\n",
        "k = y.nunique()\n",
        "n_pontos = X.shape[0]"
      ]
    },
    {
      "cell_type": "code",
      "execution_count": null,
      "metadata": {
        "colab": {
          "base_uri": "https://localhost:8080/"
        },
        "id": "WMKJPvscJgQc",
        "outputId": "5e75fd0e-4bfd-49af-9626-2976a8cf8c19"
      },
      "outputs": [
        {
          "output_type": "execute_result",
          "data": {
            "text/plain": [
              "array(['Kecimen', 'Besni'], dtype=object)"
            ]
          },
          "metadata": {},
          "execution_count": 420
        }
      ],
      "source": [
        "y['Class'].unique()"
      ]
    },
    {
      "cell_type": "code",
      "execution_count": null,
      "metadata": {
        "id": "r3K7UrFFKEzb"
      },
      "outputs": [],
      "source": [
        "mapping = {'Kecimen': 0, 'Besni': 1}\n",
        "y_map = y['Class'].map(mapping)"
      ]
    },
    {
      "cell_type": "code",
      "execution_count": null,
      "metadata": {
        "id": "H_EOlho1e98n"
      },
      "outputs": [],
      "source": [
        "# Cálculo da matriz de distâncias\n",
        "p = 1\n",
        "X_dist_manhattan = matriz_dist(X, p)"
      ]
    },
    {
      "cell_type": "code",
      "execution_count": null,
      "metadata": {
        "id": "f99r-PQ_kFMs"
      },
      "outputs": [],
      "source": [
        "# Cálculo matriz de distâncias\n",
        "p = 2\n",
        "X_dist_euclidiana = matriz_dist(X, p)"
      ]
    },
    {
      "cell_type": "code",
      "execution_count": null,
      "metadata": {
        "id": "YsLadz4EkBah"
      },
      "outputs": [],
      "source": [
        "#Aplicação algoritmo k centros 1 distância de Manhattan\n",
        "experimentos_kcentros1(X_dist_manhattan, n_pontos,  X, y_map, k, 'Manhattan', 1)\n",
        "\n",
        "# Aplicação algoritmo k centros 1 distância Euclidiana\n",
        "experimentos_kcentros1(X_dist_euclidiana , n_pontos,  X, y_map, k, 'Euclidiana', 1)\n",
        "\n",
        "# Aplicação algoritmo kcentros 2 distância de Manhattan\n",
        "experimentos_kcentros2(X_dist_manhattan, n_pontos, X, y_map, k, 'Manhattan', 1)\n",
        "\n",
        "# Aplicação algoritmo kcentros 2 distância Euclidiana\n",
        "experimentos_kcentros2(X_dist_euclidiana , n_pontos, X, y_map, k, 'Euclidiana', 1)"
      ]
    },
    {
      "cell_type": "markdown",
      "metadata": {
        "id": "-Rf849LZMVQr"
      },
      "source": [
        "**Pré processamento dataset 2**"
      ]
    },
    {
      "cell_type": "code",
      "execution_count": null,
      "metadata": {
        "id": "CgCfvYqmXFIp"
      },
      "outputs": [],
      "source": [
        "# Dados de imagem descritos por atributos numéricos de alto nível, 7 classes\n",
        "\n",
        "# fetch dataset\n",
        "image_segmentation = fetch_ucirepo(id=50)\n",
        "\n",
        "# data (as pandas dataframes)\n",
        "X = image_segmentation.data.features\n",
        "y = image_segmentation.data.targets"
      ]
    },
    {
      "cell_type": "code",
      "execution_count": null,
      "metadata": {
        "id": "yuTHoTGHFuhQ"
      },
      "outputs": [],
      "source": [
        "X = X.dropna()\n",
        "y = y.loc[X.index]\n",
        "k = y.nunique()\n",
        "n_pontos = X.shape[0]"
      ]
    },
    {
      "cell_type": "code",
      "execution_count": null,
      "metadata": {
        "colab": {
          "base_uri": "https://localhost:8080/"
        },
        "id": "wq7haPjRMydH",
        "outputId": "b43b0b34-88c9-42fd-e4f3-db3a8afcefdb"
      },
      "outputs": [
        {
          "output_type": "execute_result",
          "data": {
            "text/plain": [
              "array(['BRICKFACE', 'SKY', 'FOLIAGE', 'CEMENT', 'WINDOW', 'PATH', 'GRASS'],\n",
              "      dtype=object)"
            ]
          },
          "metadata": {},
          "execution_count": 435
        }
      ],
      "source": [
        "y['class'].unique()"
      ]
    },
    {
      "cell_type": "code",
      "execution_count": null,
      "metadata": {
        "id": "Mvg22UtHM7-k"
      },
      "outputs": [],
      "source": [
        "mapping = {'BRICKFACE': 0, 'SKY': 1, 'FOLIAGE':2, 'CEMENT': 3, 'WINDOW': 4, 'PATH': 5, 'GRASS': 6}\n",
        "y_map = y['class'].map(mapping)"
      ]
    },
    {
      "cell_type": "code",
      "execution_count": null,
      "metadata": {
        "id": "TEkk3wDFvvln"
      },
      "outputs": [],
      "source": [
        "# Cálculo da matriz de distâncias\n",
        "p = 1\n",
        "X_dist_manhattan = matriz_dist(X, p)"
      ]
    },
    {
      "cell_type": "code",
      "execution_count": null,
      "metadata": {
        "id": "mhSgYMcNvygr"
      },
      "outputs": [],
      "source": [
        "# Cálculo matriz de distâncias\n",
        "p = 2\n",
        "X_dist_euclidiana = matriz_dist(X, p)"
      ]
    },
    {
      "cell_type": "code",
      "execution_count": null,
      "metadata": {
        "id": "eE1t-cRtv3-r",
        "colab": {
          "base_uri": "https://localhost:8080/",
          "height": 356
        },
        "outputId": "8051b506-f9e3-42ea-8988-cd2d64c98888"
      },
      "outputs": [
        {
          "output_type": "error",
          "ename": "KeyboardInterrupt",
          "evalue": "",
          "traceback": [
            "\u001b[0;31m---------------------------------------------------------------------------\u001b[0m",
            "\u001b[0;31mKeyboardInterrupt\u001b[0m                         Traceback (most recent call last)",
            "\u001b[0;32m<ipython-input-459-9c3f6c520fde>\u001b[0m in \u001b[0;36m<cell line: 2>\u001b[0;34m()\u001b[0m\n\u001b[1;32m      1\u001b[0m \u001b[0;31m# Aplicação algoritmo k centros 1 distância de Manhattan\u001b[0m\u001b[0;34m\u001b[0m\u001b[0;34m\u001b[0m\u001b[0m\n\u001b[0;32m----> 2\u001b[0;31m \u001b[0mexperimentos_kcentros1\u001b[0m\u001b[0;34m(\u001b[0m\u001b[0mX_dist_manhattan\u001b[0m\u001b[0;34m,\u001b[0m \u001b[0mn_pontos\u001b[0m\u001b[0;34m,\u001b[0m  \u001b[0mX\u001b[0m\u001b[0;34m,\u001b[0m \u001b[0my_map\u001b[0m\u001b[0;34m,\u001b[0m \u001b[0;34m'Manhattan'\u001b[0m\u001b[0;34m,\u001b[0m \u001b[0;36m2\u001b[0m\u001b[0;34m)\u001b[0m\u001b[0;34m\u001b[0m\u001b[0;34m\u001b[0m\u001b[0m\n\u001b[0m\u001b[1;32m      3\u001b[0m \u001b[0;34m\u001b[0m\u001b[0m\n\u001b[1;32m      4\u001b[0m \u001b[0;31m# Aplicação algoritmo k centros 1 distância Euclidiana\u001b[0m\u001b[0;34m\u001b[0m\u001b[0;34m\u001b[0m\u001b[0m\n\u001b[1;32m      5\u001b[0m \u001b[0mexperimentos_kcentros1\u001b[0m\u001b[0;34m(\u001b[0m\u001b[0mX_dist_euclidiana\u001b[0m \u001b[0;34m,\u001b[0m \u001b[0mn_pontos\u001b[0m\u001b[0;34m,\u001b[0m  \u001b[0mX\u001b[0m\u001b[0;34m,\u001b[0m \u001b[0my_map\u001b[0m\u001b[0;34m,\u001b[0m\u001b[0;34m'Euclidiana'\u001b[0m\u001b[0;34m,\u001b[0m \u001b[0;36m2\u001b[0m\u001b[0;34m)\u001b[0m\u001b[0;34m\u001b[0m\u001b[0;34m\u001b[0m\u001b[0m\n",
            "\u001b[0;32m<ipython-input-442-771336ebd960>\u001b[0m in \u001b[0;36mexperimentos_kcentros1\u001b[0;34m(m_dist, npontos, X, y_map, t_dist, id_dataset)\u001b[0m\n\u001b[1;32m     10\u001b[0m       \u001b[0mstart_time\u001b[0m \u001b[0;34m=\u001b[0m \u001b[0mtime\u001b[0m\u001b[0;34m.\u001b[0m\u001b[0mtime\u001b[0m\u001b[0;34m(\u001b[0m\u001b[0;34m)\u001b[0m\u001b[0;34m\u001b[0m\u001b[0;34m\u001b[0m\u001b[0m\n\u001b[1;32m     11\u001b[0m \u001b[0;34m\u001b[0m\u001b[0m\n\u001b[0;32m---> 12\u001b[0;31m       \u001b[0mC\u001b[0m \u001b[0;34m=\u001b[0m \u001b[0mkcentros1\u001b[0m\u001b[0;34m(\u001b[0m\u001b[0mn_pontos\u001b[0m\u001b[0;34m,\u001b[0m \u001b[0mm_dist\u001b[0m\u001b[0;34m,\u001b[0m \u001b[0mk\u001b[0m\u001b[0;34m,\u001b[0m \u001b[0mp\u001b[0m\u001b[0;34m,\u001b[0m \u001b[0mref\u001b[0m\u001b[0;34m[\u001b[0m\u001b[0mi\u001b[0m\u001b[0;34m]\u001b[0m\u001b[0;34m)\u001b[0m\u001b[0;34m\u001b[0m\u001b[0;34m\u001b[0m\u001b[0m\n\u001b[0m\u001b[1;32m     13\u001b[0m \u001b[0;34m\u001b[0m\u001b[0m\n\u001b[1;32m     14\u001b[0m       \u001b[0mend_time\u001b[0m \u001b[0;34m=\u001b[0m \u001b[0mtime\u001b[0m\u001b[0;34m.\u001b[0m\u001b[0mtime\u001b[0m\u001b[0;34m(\u001b[0m\u001b[0;34m)\u001b[0m\u001b[0;34m\u001b[0m\u001b[0;34m\u001b[0m\u001b[0m\n",
            "\u001b[0;32m<ipython-input-406-3817497f5602>\u001b[0m in \u001b[0;36mkcentros1\u001b[0;34m(npontos, distancias, k, p, ref)\u001b[0m\n\u001b[1;32m      1\u001b[0m \u001b[0;32mdef\u001b[0m \u001b[0mkcentros1\u001b[0m\u001b[0;34m(\u001b[0m\u001b[0mnpontos\u001b[0m\u001b[0;34m,\u001b[0m \u001b[0mdistancias\u001b[0m\u001b[0;34m,\u001b[0m\u001b[0mk\u001b[0m\u001b[0;34m,\u001b[0m \u001b[0mp\u001b[0m\u001b[0;34m,\u001b[0m \u001b[0mref\u001b[0m\u001b[0;34m)\u001b[0m\u001b[0;34m:\u001b[0m\u001b[0;34m\u001b[0m\u001b[0;34m\u001b[0m\u001b[0m\n\u001b[0;32m----> 2\u001b[0;31m   \u001b[0mrmax\u001b[0m \u001b[0;34m=\u001b[0m \u001b[0mcalculo_rmax\u001b[0m\u001b[0;34m(\u001b[0m\u001b[0mdistancias\u001b[0m\u001b[0;34m,\u001b[0m \u001b[0mnpontos\u001b[0m\u001b[0;34m)\u001b[0m\u001b[0;34m\u001b[0m\u001b[0;34m\u001b[0m\u001b[0m\n\u001b[0m\u001b[1;32m      3\u001b[0m   \u001b[0ml\u001b[0m \u001b[0;34m=\u001b[0m \u001b[0;36m0\u001b[0m\u001b[0;34m;\u001b[0m\u001b[0;34m\u001b[0m\u001b[0;34m\u001b[0m\u001b[0m\n\u001b[1;32m      4\u001b[0m   \u001b[0mr\u001b[0m \u001b[0;34m=\u001b[0m \u001b[0mrmax\u001b[0m\u001b[0;34m;\u001b[0m\u001b[0;34m\u001b[0m\u001b[0;34m\u001b[0m\u001b[0m\n\u001b[1;32m      5\u001b[0m \u001b[0;34m\u001b[0m\u001b[0m\n",
            "\u001b[0;32m<ipython-input-405-f24cb955bc7e>\u001b[0m in \u001b[0;36mcalculo_rmax\u001b[0;34m(distancias, npontos)\u001b[0m\n\u001b[1;32m      3\u001b[0m   \u001b[0;32mfor\u001b[0m \u001b[0mi\u001b[0m \u001b[0;32min\u001b[0m \u001b[0mrange\u001b[0m\u001b[0;34m(\u001b[0m\u001b[0mnpontos\u001b[0m\u001b[0;34m)\u001b[0m\u001b[0;34m:\u001b[0m\u001b[0;34m\u001b[0m\u001b[0;34m\u001b[0m\u001b[0m\n\u001b[1;32m      4\u001b[0m     \u001b[0;32mfor\u001b[0m \u001b[0mj\u001b[0m \u001b[0;32min\u001b[0m \u001b[0mrange\u001b[0m\u001b[0;34m(\u001b[0m\u001b[0mnpontos\u001b[0m\u001b[0;34m)\u001b[0m\u001b[0;34m:\u001b[0m\u001b[0;34m\u001b[0m\u001b[0;34m\u001b[0m\u001b[0m\n\u001b[0;32m----> 5\u001b[0;31m       \u001b[0mrmax\u001b[0m \u001b[0;34m=\u001b[0m \u001b[0mmax\u001b[0m\u001b[0;34m(\u001b[0m\u001b[0mrmax\u001b[0m\u001b[0;34m,\u001b[0m \u001b[0mdistancias\u001b[0m\u001b[0;34m[\u001b[0m\u001b[0mi\u001b[0m\u001b[0;34m,\u001b[0m \u001b[0mj\u001b[0m\u001b[0;34m]\u001b[0m\u001b[0;34m)\u001b[0m\u001b[0;34m\u001b[0m\u001b[0;34m\u001b[0m\u001b[0m\n\u001b[0m\u001b[1;32m      6\u001b[0m \u001b[0;34m\u001b[0m\u001b[0m\n\u001b[1;32m      7\u001b[0m   \u001b[0;32mreturn\u001b[0m \u001b[0mrmax\u001b[0m\u001b[0;34m\u001b[0m\u001b[0;34m\u001b[0m\u001b[0m\n",
            "\u001b[0;31mKeyboardInterrupt\u001b[0m: "
          ]
        }
      ],
      "source": [
        "# Aplicação algoritmo k centros 1 distância de Manhattan\n",
        "experimentos_kcentros1(X_dist_manhattan, n_pontos,  X, y_map, k, 'Manhattan', 2)\n",
        "\n",
        "# Aplicação algoritmo k centros 1 distância Euclidiana\n",
        "experimentos_kcentros1(X_dist_euclidiana , n_pontos,  X, y_map, k,'Euclidiana', 2)\n",
        "\n",
        "# Aplicação algoritmo kcentros 2 distância de Manhattan\n",
        "experimentos_kcentros2(X_dist_manhattan, n_pontos, X, y_map , k,'Manhattan', 2)\n",
        "\n",
        "#Aplicação algoritmo kcentros 2 distância Euclidiana\n",
        "experimentos_kcentros2(X_dist_euclidiana , n_pontos, X, y_map, k,'Euclidiana', 2)"
      ]
    },
    {
      "cell_type": "markdown",
      "metadata": {
        "id": "cqpYEr96NUWP"
      },
      "source": [
        "**Pré processamento dataset 3**"
      ]
    },
    {
      "cell_type": "code",
      "execution_count": null,
      "metadata": {
        "id": "8j54UtI_ZKAj"
      },
      "outputs": [],
      "source": [
        "# Dados foram coletados de diferentes hospitais, clínicas comunitárias e unidades\n",
        "# de saúde materna de áreas rurais de Bangladesh por meio do sistema de monitoramento de risco baseado em IoT.\n",
        "\n",
        "# fetch dataset\n",
        "maternal_health_risk = fetch_ucirepo(id=863)\n",
        "\n",
        "# data (as pandas dataframes)\n",
        "X = maternal_health_risk.data.features\n",
        "y = maternal_health_risk.data.targets"
      ]
    },
    {
      "cell_type": "code",
      "execution_count": null,
      "metadata": {
        "id": "NpDh8F4wGU3l"
      },
      "outputs": [],
      "source": [
        "X = X.dropna()\n",
        "y = y.loc[X.index]\n",
        "k = y.nunique()\n",
        "n_pontos = X.shape[0]"
      ]
    },
    {
      "cell_type": "code",
      "execution_count": null,
      "metadata": {
        "colab": {
          "base_uri": "https://localhost:8080/"
        },
        "id": "N1GGEJorNdTX",
        "outputId": "c7590bbe-ec9b-48af-9e66-c65eda027f2d"
      },
      "outputs": [
        {
          "output_type": "execute_result",
          "data": {
            "text/plain": [
              "array(['high risk', 'low risk', 'mid risk'], dtype=object)"
            ]
          },
          "metadata": {},
          "execution_count": 469
        }
      ],
      "source": [
        "y['RiskLevel'].unique()"
      ]
    },
    {
      "cell_type": "code",
      "execution_count": null,
      "metadata": {
        "id": "oaQu4cSbNncA"
      },
      "outputs": [],
      "source": [
        "mapping = {'high risk': 0, 'low risk': 1, 'mid risk':2}\n",
        "y_map = y['RiskLevel'].map(mapping)"
      ]
    },
    {
      "cell_type": "code",
      "execution_count": null,
      "metadata": {
        "id": "yXLMH1HKxvTO"
      },
      "outputs": [],
      "source": [
        "# Cálculo da matriz de distâncias\n",
        "p = 1\n",
        "X_dist_manhattan = matriz_dist(X, p)\n",
        "p = 2\n",
        "X_dist_euclidiana = matriz_dist(X, p)"
      ]
    },
    {
      "cell_type": "code",
      "execution_count": null,
      "metadata": {
        "id": "sR_8BTB6x2FQ",
        "colab": {
          "base_uri": "https://localhost:8080/",
          "height": 373
        },
        "outputId": "09f1310d-f41c-4dff-ec98-9e2aed3d9e6c"
      },
      "outputs": [
        {
          "output_type": "error",
          "ename": "ValueError",
          "evalue": "Number of labels is 1. Valid values are 2 to n_samples - 1 (inclusive)",
          "traceback": [
            "\u001b[0;31m---------------------------------------------------------------------------\u001b[0m",
            "\u001b[0;31mValueError\u001b[0m                                Traceback (most recent call last)",
            "\u001b[0;32m<ipython-input-461-74e8a8f6faa3>\u001b[0m in \u001b[0;36m<cell line: 5>\u001b[0;34m()\u001b[0m\n\u001b[1;32m      3\u001b[0m \u001b[0;34m\u001b[0m\u001b[0m\n\u001b[1;32m      4\u001b[0m \u001b[0;31m# Aplicação algoritmo k centros 1 distância Euclidiana\u001b[0m\u001b[0;34m\u001b[0m\u001b[0;34m\u001b[0m\u001b[0m\n\u001b[0;32m----> 5\u001b[0;31m \u001b[0mexperimentos_kcentros1\u001b[0m\u001b[0;34m(\u001b[0m\u001b[0mX_dist_euclidiana\u001b[0m \u001b[0;34m,\u001b[0m \u001b[0mn_pontos\u001b[0m\u001b[0;34m,\u001b[0m  \u001b[0mX\u001b[0m\u001b[0;34m,\u001b[0m \u001b[0my_map\u001b[0m\u001b[0;34m,\u001b[0m\u001b[0;34m'Euclidiana'\u001b[0m\u001b[0;34m,\u001b[0m \u001b[0;36m3\u001b[0m\u001b[0;34m)\u001b[0m\u001b[0;34m\u001b[0m\u001b[0;34m\u001b[0m\u001b[0m\n\u001b[0m\u001b[1;32m      6\u001b[0m \u001b[0;34m\u001b[0m\u001b[0m\n\u001b[1;32m      7\u001b[0m \u001b[0;31m# Aplicação algoritmo kcentros 2 distância de Manhattan\u001b[0m\u001b[0;34m\u001b[0m\u001b[0;34m\u001b[0m\u001b[0m\n",
            "\u001b[0;32m<ipython-input-442-771336ebd960>\u001b[0m in \u001b[0;36mexperimentos_kcentros1\u001b[0;34m(m_dist, npontos, X, y_map, t_dist, id_dataset)\u001b[0m\n\u001b[1;32m     18\u001b[0m \u001b[0;34m\u001b[0m\u001b[0m\n\u001b[1;32m     19\u001b[0m       \u001b[0mtmp_exec_kmeans\u001b[0m\u001b[0;34m.\u001b[0m\u001b[0mappend\u001b[0m\u001b[0;34m(\u001b[0m\u001b[0mexecution_time\u001b[0m\u001b[0;34m)\u001b[0m\u001b[0;34m\u001b[0m\u001b[0;34m\u001b[0m\u001b[0m\n\u001b[0;32m---> 20\u001b[0;31m       \u001b[0msilhueta_kmeans\u001b[0m\u001b[0;34m.\u001b[0m\u001b[0mappend\u001b[0m\u001b[0;34m(\u001b[0m\u001b[0msilhouette_score\u001b[0m\u001b[0;34m(\u001b[0m\u001b[0mX\u001b[0m\u001b[0;34m,\u001b[0m \u001b[0mc_dados\u001b[0m\u001b[0;34m)\u001b[0m\u001b[0;34m)\u001b[0m\u001b[0;34m\u001b[0m\u001b[0;34m\u001b[0m\u001b[0m\n\u001b[0m\u001b[1;32m     21\u001b[0m       \u001b[0mindice_rand_kmeans\u001b[0m\u001b[0;34m.\u001b[0m\u001b[0mappend\u001b[0m\u001b[0;34m(\u001b[0m\u001b[0madjusted_rand_score\u001b[0m\u001b[0;34m(\u001b[0m\u001b[0my_map\u001b[0m\u001b[0;34m,\u001b[0m \u001b[0mc_dados\u001b[0m\u001b[0;34m)\u001b[0m\u001b[0;34m)\u001b[0m\u001b[0;34m\u001b[0m\u001b[0;34m\u001b[0m\u001b[0m\n\u001b[1;32m     22\u001b[0m \u001b[0;34m\u001b[0m\u001b[0m\n",
            "\u001b[0;32m/usr/local/lib/python3.10/dist-packages/sklearn/utils/_param_validation.py\u001b[0m in \u001b[0;36mwrapper\u001b[0;34m(*args, **kwargs)\u001b[0m\n\u001b[1;32m    212\u001b[0m                     )\n\u001b[1;32m    213\u001b[0m                 ):\n\u001b[0;32m--> 214\u001b[0;31m                     \u001b[0;32mreturn\u001b[0m \u001b[0mfunc\u001b[0m\u001b[0;34m(\u001b[0m\u001b[0;34m*\u001b[0m\u001b[0margs\u001b[0m\u001b[0;34m,\u001b[0m \u001b[0;34m**\u001b[0m\u001b[0mkwargs\u001b[0m\u001b[0;34m)\u001b[0m\u001b[0;34m\u001b[0m\u001b[0;34m\u001b[0m\u001b[0m\n\u001b[0m\u001b[1;32m    215\u001b[0m             \u001b[0;32mexcept\u001b[0m \u001b[0mInvalidParameterError\u001b[0m \u001b[0;32mas\u001b[0m \u001b[0me\u001b[0m\u001b[0;34m:\u001b[0m\u001b[0;34m\u001b[0m\u001b[0;34m\u001b[0m\u001b[0m\n\u001b[1;32m    216\u001b[0m                 \u001b[0;31m# When the function is just a wrapper around an estimator, we allow\u001b[0m\u001b[0;34m\u001b[0m\u001b[0;34m\u001b[0m\u001b[0m\n",
            "\u001b[0;32m/usr/local/lib/python3.10/dist-packages/sklearn/metrics/cluster/_unsupervised.py\u001b[0m in \u001b[0;36msilhouette_score\u001b[0;34m(X, labels, metric, sample_size, random_state, **kwds)\u001b[0m\n\u001b[1;32m    128\u001b[0m         \u001b[0;32melse\u001b[0m\u001b[0;34m:\u001b[0m\u001b[0;34m\u001b[0m\u001b[0;34m\u001b[0m\u001b[0m\n\u001b[1;32m    129\u001b[0m             \u001b[0mX\u001b[0m\u001b[0;34m,\u001b[0m \u001b[0mlabels\u001b[0m \u001b[0;34m=\u001b[0m \u001b[0mX\u001b[0m\u001b[0;34m[\u001b[0m\u001b[0mindices\u001b[0m\u001b[0;34m]\u001b[0m\u001b[0;34m,\u001b[0m \u001b[0mlabels\u001b[0m\u001b[0;34m[\u001b[0m\u001b[0mindices\u001b[0m\u001b[0;34m]\u001b[0m\u001b[0;34m\u001b[0m\u001b[0;34m\u001b[0m\u001b[0m\n\u001b[0;32m--> 130\u001b[0;31m     \u001b[0;32mreturn\u001b[0m \u001b[0mnp\u001b[0m\u001b[0;34m.\u001b[0m\u001b[0mmean\u001b[0m\u001b[0;34m(\u001b[0m\u001b[0msilhouette_samples\u001b[0m\u001b[0;34m(\u001b[0m\u001b[0mX\u001b[0m\u001b[0;34m,\u001b[0m \u001b[0mlabels\u001b[0m\u001b[0;34m,\u001b[0m \u001b[0mmetric\u001b[0m\u001b[0;34m=\u001b[0m\u001b[0mmetric\u001b[0m\u001b[0;34m,\u001b[0m \u001b[0;34m**\u001b[0m\u001b[0mkwds\u001b[0m\u001b[0;34m)\u001b[0m\u001b[0;34m)\u001b[0m\u001b[0;34m\u001b[0m\u001b[0;34m\u001b[0m\u001b[0m\n\u001b[0m\u001b[1;32m    131\u001b[0m \u001b[0;34m\u001b[0m\u001b[0m\n\u001b[1;32m    132\u001b[0m \u001b[0;34m\u001b[0m\u001b[0m\n",
            "\u001b[0;32m/usr/local/lib/python3.10/dist-packages/sklearn/utils/_param_validation.py\u001b[0m in \u001b[0;36mwrapper\u001b[0;34m(*args, **kwargs)\u001b[0m\n\u001b[1;32m    185\u001b[0m             \u001b[0mglobal_skip_validation\u001b[0m \u001b[0;34m=\u001b[0m \u001b[0mget_config\u001b[0m\u001b[0;34m(\u001b[0m\u001b[0;34m)\u001b[0m\u001b[0;34m[\u001b[0m\u001b[0;34m\"skip_parameter_validation\"\u001b[0m\u001b[0;34m]\u001b[0m\u001b[0;34m\u001b[0m\u001b[0;34m\u001b[0m\u001b[0m\n\u001b[1;32m    186\u001b[0m             \u001b[0;32mif\u001b[0m \u001b[0mglobal_skip_validation\u001b[0m\u001b[0;34m:\u001b[0m\u001b[0;34m\u001b[0m\u001b[0;34m\u001b[0m\u001b[0m\n\u001b[0;32m--> 187\u001b[0;31m                 \u001b[0;32mreturn\u001b[0m \u001b[0mfunc\u001b[0m\u001b[0;34m(\u001b[0m\u001b[0;34m*\u001b[0m\u001b[0margs\u001b[0m\u001b[0;34m,\u001b[0m \u001b[0;34m**\u001b[0m\u001b[0mkwargs\u001b[0m\u001b[0;34m)\u001b[0m\u001b[0;34m\u001b[0m\u001b[0;34m\u001b[0m\u001b[0m\n\u001b[0m\u001b[1;32m    188\u001b[0m \u001b[0;34m\u001b[0m\u001b[0m\n\u001b[1;32m    189\u001b[0m             \u001b[0mfunc_sig\u001b[0m \u001b[0;34m=\u001b[0m \u001b[0msignature\u001b[0m\u001b[0;34m(\u001b[0m\u001b[0mfunc\u001b[0m\u001b[0;34m)\u001b[0m\u001b[0;34m\u001b[0m\u001b[0;34m\u001b[0m\u001b[0m\n",
            "\u001b[0;32m/usr/local/lib/python3.10/dist-packages/sklearn/metrics/cluster/_unsupervised.py\u001b[0m in \u001b[0;36msilhouette_samples\u001b[0;34m(X, labels, metric, **kwds)\u001b[0m\n\u001b[1;32m    274\u001b[0m     \u001b[0mn_samples\u001b[0m \u001b[0;34m=\u001b[0m \u001b[0mlen\u001b[0m\u001b[0;34m(\u001b[0m\u001b[0mlabels\u001b[0m\u001b[0;34m)\u001b[0m\u001b[0;34m\u001b[0m\u001b[0;34m\u001b[0m\u001b[0m\n\u001b[1;32m    275\u001b[0m     \u001b[0mlabel_freqs\u001b[0m \u001b[0;34m=\u001b[0m \u001b[0mnp\u001b[0m\u001b[0;34m.\u001b[0m\u001b[0mbincount\u001b[0m\u001b[0;34m(\u001b[0m\u001b[0mlabels\u001b[0m\u001b[0;34m)\u001b[0m\u001b[0;34m\u001b[0m\u001b[0;34m\u001b[0m\u001b[0m\n\u001b[0;32m--> 276\u001b[0;31m     \u001b[0mcheck_number_of_labels\u001b[0m\u001b[0;34m(\u001b[0m\u001b[0mlen\u001b[0m\u001b[0;34m(\u001b[0m\u001b[0mle\u001b[0m\u001b[0;34m.\u001b[0m\u001b[0mclasses_\u001b[0m\u001b[0;34m)\u001b[0m\u001b[0;34m,\u001b[0m \u001b[0mn_samples\u001b[0m\u001b[0;34m)\u001b[0m\u001b[0;34m\u001b[0m\u001b[0;34m\u001b[0m\u001b[0m\n\u001b[0m\u001b[1;32m    277\u001b[0m \u001b[0;34m\u001b[0m\u001b[0m\n\u001b[1;32m    278\u001b[0m     \u001b[0mkwds\u001b[0m\u001b[0;34m[\u001b[0m\u001b[0;34m\"metric\"\u001b[0m\u001b[0;34m]\u001b[0m \u001b[0;34m=\u001b[0m \u001b[0mmetric\u001b[0m\u001b[0;34m\u001b[0m\u001b[0;34m\u001b[0m\u001b[0m\n",
            "\u001b[0;32m/usr/local/lib/python3.10/dist-packages/sklearn/metrics/cluster/_unsupervised.py\u001b[0m in \u001b[0;36mcheck_number_of_labels\u001b[0;34m(n_labels, n_samples)\u001b[0m\n\u001b[1;32m     35\u001b[0m     \"\"\"\n\u001b[1;32m     36\u001b[0m     \u001b[0;32mif\u001b[0m \u001b[0;32mnot\u001b[0m \u001b[0;36m1\u001b[0m \u001b[0;34m<\u001b[0m \u001b[0mn_labels\u001b[0m \u001b[0;34m<\u001b[0m \u001b[0mn_samples\u001b[0m\u001b[0;34m:\u001b[0m\u001b[0;34m\u001b[0m\u001b[0;34m\u001b[0m\u001b[0m\n\u001b[0;32m---> 37\u001b[0;31m         raise ValueError(\n\u001b[0m\u001b[1;32m     38\u001b[0m             \u001b[0;34m\"Number of labels is %d. Valid values are 2 to n_samples - 1 (inclusive)\"\u001b[0m\u001b[0;34m\u001b[0m\u001b[0;34m\u001b[0m\u001b[0m\n\u001b[1;32m     39\u001b[0m             \u001b[0;34m%\u001b[0m \u001b[0mn_labels\u001b[0m\u001b[0;34m\u001b[0m\u001b[0;34m\u001b[0m\u001b[0m\n",
            "\u001b[0;31mValueError\u001b[0m: Number of labels is 1. Valid values are 2 to n_samples - 1 (inclusive)"
          ]
        }
      ],
      "source": [
        "# Aplicação algoritmo k centros 1 distância de Manhattan\n",
        "experimentos_kcentros1(X_dist_manhattan, n_pontos,  X, y_map, k, 'Manhattan', 3)\n",
        "\n",
        "# Aplicação algoritmo k centros 1 distância Euclidiana\n",
        "experimentos_kcentros1(X_dist_euclidiana , n_pontos,  X, y_map, k,'Euclidiana', 3)"
      ]
    },
    {
      "cell_type": "code",
      "source": [
        "# Aplicação algoritmo kcentros 2 distância de Manhattan\n",
        "experimentos_kcentros2(X_dist_manhattan, n_pontos, X, y_map, k, 'Manhattan', 3)\n",
        "\n",
        "#Aplicação algoritmo kcentros 2 distância Euclidiana\n",
        "experimentos_kcentros2(X_dist_euclidiana , n_pontos, X, y_map, k,'Euclidiana', 3)"
      ],
      "metadata": {
        "id": "YYoWOZrqWJDY"
      },
      "execution_count": null,
      "outputs": []
    },
    {
      "cell_type": "markdown",
      "metadata": {
        "id": "Yomr96qvN7Mp"
      },
      "source": [
        "**Pré processamento dataset 4**"
      ]
    },
    {
      "cell_type": "code",
      "execution_count": null,
      "metadata": {
        "id": "30myvDg_Dzhc"
      },
      "outputs": [],
      "source": [
        "# Discriminação de massas mamográficas benignas e malignas com base nos atributos BI-RADS e na idade do paciente.\n",
        "\n",
        "# fetch dataset\n",
        "mammographic_mass = fetch_ucirepo(id=161)\n",
        "\n",
        "# data (as pandas dataframes)\n",
        "X = mammographic_mass.data.features\n",
        "y = mammographic_mass.data.targets"
      ]
    },
    {
      "cell_type": "code",
      "execution_count": null,
      "metadata": {
        "id": "UBZqzcDPD9ue"
      },
      "outputs": [],
      "source": [
        "X = X.dropna()\n",
        "y = y.loc[X.index]\n",
        "k = y.nunique()\n",
        "n_pontos = X.shape[0]"
      ]
    },
    {
      "cell_type": "code",
      "execution_count": null,
      "metadata": {
        "id": "LTnt78Pbx6Ap"
      },
      "outputs": [],
      "source": [
        "# Cálculo da matriz de distâncias\n",
        "p = 1\n",
        "X_dist_manhattan = matriz_dist(X, p)\n",
        "p = 2\n",
        "X_dist_euclidiana = matriz_dist(X, p)"
      ]
    },
    {
      "cell_type": "code",
      "execution_count": null,
      "metadata": {
        "id": "itMGqJKex8Bk",
        "colab": {
          "base_uri": "https://localhost:8080/",
          "height": 373
        },
        "outputId": "4d615375-3f2b-4e48-f28d-eb864a267335"
      },
      "outputs": [
        {
          "output_type": "error",
          "ename": "ValueError",
          "evalue": "Number of labels is 1. Valid values are 2 to n_samples - 1 (inclusive)",
          "traceback": [
            "\u001b[0;31m---------------------------------------------------------------------------\u001b[0m",
            "\u001b[0;31mValueError\u001b[0m                                Traceback (most recent call last)",
            "\u001b[0;32m<ipython-input-480-3ce59968a4e2>\u001b[0m in \u001b[0;36m<cell line: 2>\u001b[0;34m()\u001b[0m\n\u001b[1;32m      1\u001b[0m \u001b[0;31m# Aplicação algoritmo k centros 1 distância de Manhattan\u001b[0m\u001b[0;34m\u001b[0m\u001b[0;34m\u001b[0m\u001b[0m\n\u001b[0;32m----> 2\u001b[0;31m \u001b[0mexperimentos_kcentros1\u001b[0m\u001b[0;34m(\u001b[0m\u001b[0mX_dist_manhattan\u001b[0m\u001b[0;34m,\u001b[0m \u001b[0mn_pontos\u001b[0m\u001b[0;34m,\u001b[0m  \u001b[0mX\u001b[0m\u001b[0;34m,\u001b[0m \u001b[0my\u001b[0m\u001b[0;34m.\u001b[0m\u001b[0msqueeze\u001b[0m\u001b[0;34m(\u001b[0m\u001b[0;34m)\u001b[0m\u001b[0;34m,\u001b[0m \u001b[0;34m'Manhattan'\u001b[0m\u001b[0;34m,\u001b[0m \u001b[0;36m4\u001b[0m\u001b[0;34m)\u001b[0m\u001b[0;34m\u001b[0m\u001b[0;34m\u001b[0m\u001b[0m\n\u001b[0m\u001b[1;32m      3\u001b[0m \u001b[0;34m\u001b[0m\u001b[0m\n\u001b[1;32m      4\u001b[0m \u001b[0;31m# Aplicação algoritmo k centros 1 distância Euclidiana\u001b[0m\u001b[0;34m\u001b[0m\u001b[0;34m\u001b[0m\u001b[0m\n\u001b[1;32m      5\u001b[0m \u001b[0mexperimentos_kcentros1\u001b[0m\u001b[0;34m(\u001b[0m\u001b[0mX_dist_euclidiana\u001b[0m \u001b[0;34m,\u001b[0m \u001b[0mn_pontos\u001b[0m\u001b[0;34m,\u001b[0m  \u001b[0mX\u001b[0m\u001b[0;34m,\u001b[0m \u001b[0my\u001b[0m\u001b[0;34m.\u001b[0m\u001b[0msqueeze\u001b[0m\u001b[0;34m(\u001b[0m\u001b[0;34m)\u001b[0m\u001b[0;34m,\u001b[0m \u001b[0;34m'Euclidiana'\u001b[0m\u001b[0;34m,\u001b[0m \u001b[0;36m4\u001b[0m\u001b[0;34m)\u001b[0m\u001b[0;34m\u001b[0m\u001b[0;34m\u001b[0m\u001b[0m\n",
            "\u001b[0;32m<ipython-input-442-771336ebd960>\u001b[0m in \u001b[0;36mexperimentos_kcentros1\u001b[0;34m(m_dist, npontos, X, y_map, t_dist, id_dataset)\u001b[0m\n\u001b[1;32m     18\u001b[0m \u001b[0;34m\u001b[0m\u001b[0m\n\u001b[1;32m     19\u001b[0m       \u001b[0mtmp_exec_kmeans\u001b[0m\u001b[0;34m.\u001b[0m\u001b[0mappend\u001b[0m\u001b[0;34m(\u001b[0m\u001b[0mexecution_time\u001b[0m\u001b[0;34m)\u001b[0m\u001b[0;34m\u001b[0m\u001b[0;34m\u001b[0m\u001b[0m\n\u001b[0;32m---> 20\u001b[0;31m       \u001b[0msilhueta_kmeans\u001b[0m\u001b[0;34m.\u001b[0m\u001b[0mappend\u001b[0m\u001b[0;34m(\u001b[0m\u001b[0msilhouette_score\u001b[0m\u001b[0;34m(\u001b[0m\u001b[0mX\u001b[0m\u001b[0;34m,\u001b[0m \u001b[0mc_dados\u001b[0m\u001b[0;34m)\u001b[0m\u001b[0;34m)\u001b[0m\u001b[0;34m\u001b[0m\u001b[0;34m\u001b[0m\u001b[0m\n\u001b[0m\u001b[1;32m     21\u001b[0m       \u001b[0mindice_rand_kmeans\u001b[0m\u001b[0;34m.\u001b[0m\u001b[0mappend\u001b[0m\u001b[0;34m(\u001b[0m\u001b[0madjusted_rand_score\u001b[0m\u001b[0;34m(\u001b[0m\u001b[0my_map\u001b[0m\u001b[0;34m,\u001b[0m \u001b[0mc_dados\u001b[0m\u001b[0;34m)\u001b[0m\u001b[0;34m)\u001b[0m\u001b[0;34m\u001b[0m\u001b[0;34m\u001b[0m\u001b[0m\n\u001b[1;32m     22\u001b[0m \u001b[0;34m\u001b[0m\u001b[0m\n",
            "\u001b[0;32m/usr/local/lib/python3.10/dist-packages/sklearn/utils/_param_validation.py\u001b[0m in \u001b[0;36mwrapper\u001b[0;34m(*args, **kwargs)\u001b[0m\n\u001b[1;32m    212\u001b[0m                     )\n\u001b[1;32m    213\u001b[0m                 ):\n\u001b[0;32m--> 214\u001b[0;31m                     \u001b[0;32mreturn\u001b[0m \u001b[0mfunc\u001b[0m\u001b[0;34m(\u001b[0m\u001b[0;34m*\u001b[0m\u001b[0margs\u001b[0m\u001b[0;34m,\u001b[0m \u001b[0;34m**\u001b[0m\u001b[0mkwargs\u001b[0m\u001b[0;34m)\u001b[0m\u001b[0;34m\u001b[0m\u001b[0;34m\u001b[0m\u001b[0m\n\u001b[0m\u001b[1;32m    215\u001b[0m             \u001b[0;32mexcept\u001b[0m \u001b[0mInvalidParameterError\u001b[0m \u001b[0;32mas\u001b[0m \u001b[0me\u001b[0m\u001b[0;34m:\u001b[0m\u001b[0;34m\u001b[0m\u001b[0;34m\u001b[0m\u001b[0m\n\u001b[1;32m    216\u001b[0m                 \u001b[0;31m# When the function is just a wrapper around an estimator, we allow\u001b[0m\u001b[0;34m\u001b[0m\u001b[0;34m\u001b[0m\u001b[0m\n",
            "\u001b[0;32m/usr/local/lib/python3.10/dist-packages/sklearn/metrics/cluster/_unsupervised.py\u001b[0m in \u001b[0;36msilhouette_score\u001b[0;34m(X, labels, metric, sample_size, random_state, **kwds)\u001b[0m\n\u001b[1;32m    128\u001b[0m         \u001b[0;32melse\u001b[0m\u001b[0;34m:\u001b[0m\u001b[0;34m\u001b[0m\u001b[0;34m\u001b[0m\u001b[0m\n\u001b[1;32m    129\u001b[0m             \u001b[0mX\u001b[0m\u001b[0;34m,\u001b[0m \u001b[0mlabels\u001b[0m \u001b[0;34m=\u001b[0m \u001b[0mX\u001b[0m\u001b[0;34m[\u001b[0m\u001b[0mindices\u001b[0m\u001b[0;34m]\u001b[0m\u001b[0;34m,\u001b[0m \u001b[0mlabels\u001b[0m\u001b[0;34m[\u001b[0m\u001b[0mindices\u001b[0m\u001b[0;34m]\u001b[0m\u001b[0;34m\u001b[0m\u001b[0;34m\u001b[0m\u001b[0m\n\u001b[0;32m--> 130\u001b[0;31m     \u001b[0;32mreturn\u001b[0m \u001b[0mnp\u001b[0m\u001b[0;34m.\u001b[0m\u001b[0mmean\u001b[0m\u001b[0;34m(\u001b[0m\u001b[0msilhouette_samples\u001b[0m\u001b[0;34m(\u001b[0m\u001b[0mX\u001b[0m\u001b[0;34m,\u001b[0m \u001b[0mlabels\u001b[0m\u001b[0;34m,\u001b[0m \u001b[0mmetric\u001b[0m\u001b[0;34m=\u001b[0m\u001b[0mmetric\u001b[0m\u001b[0;34m,\u001b[0m \u001b[0;34m**\u001b[0m\u001b[0mkwds\u001b[0m\u001b[0;34m)\u001b[0m\u001b[0;34m)\u001b[0m\u001b[0;34m\u001b[0m\u001b[0;34m\u001b[0m\u001b[0m\n\u001b[0m\u001b[1;32m    131\u001b[0m \u001b[0;34m\u001b[0m\u001b[0m\n\u001b[1;32m    132\u001b[0m \u001b[0;34m\u001b[0m\u001b[0m\n",
            "\u001b[0;32m/usr/local/lib/python3.10/dist-packages/sklearn/utils/_param_validation.py\u001b[0m in \u001b[0;36mwrapper\u001b[0;34m(*args, **kwargs)\u001b[0m\n\u001b[1;32m    185\u001b[0m             \u001b[0mglobal_skip_validation\u001b[0m \u001b[0;34m=\u001b[0m \u001b[0mget_config\u001b[0m\u001b[0;34m(\u001b[0m\u001b[0;34m)\u001b[0m\u001b[0;34m[\u001b[0m\u001b[0;34m\"skip_parameter_validation\"\u001b[0m\u001b[0;34m]\u001b[0m\u001b[0;34m\u001b[0m\u001b[0;34m\u001b[0m\u001b[0m\n\u001b[1;32m    186\u001b[0m             \u001b[0;32mif\u001b[0m \u001b[0mglobal_skip_validation\u001b[0m\u001b[0;34m:\u001b[0m\u001b[0;34m\u001b[0m\u001b[0;34m\u001b[0m\u001b[0m\n\u001b[0;32m--> 187\u001b[0;31m                 \u001b[0;32mreturn\u001b[0m \u001b[0mfunc\u001b[0m\u001b[0;34m(\u001b[0m\u001b[0;34m*\u001b[0m\u001b[0margs\u001b[0m\u001b[0;34m,\u001b[0m \u001b[0;34m**\u001b[0m\u001b[0mkwargs\u001b[0m\u001b[0;34m)\u001b[0m\u001b[0;34m\u001b[0m\u001b[0;34m\u001b[0m\u001b[0m\n\u001b[0m\u001b[1;32m    188\u001b[0m \u001b[0;34m\u001b[0m\u001b[0m\n\u001b[1;32m    189\u001b[0m             \u001b[0mfunc_sig\u001b[0m \u001b[0;34m=\u001b[0m \u001b[0msignature\u001b[0m\u001b[0;34m(\u001b[0m\u001b[0mfunc\u001b[0m\u001b[0;34m)\u001b[0m\u001b[0;34m\u001b[0m\u001b[0;34m\u001b[0m\u001b[0m\n",
            "\u001b[0;32m/usr/local/lib/python3.10/dist-packages/sklearn/metrics/cluster/_unsupervised.py\u001b[0m in \u001b[0;36msilhouette_samples\u001b[0;34m(X, labels, metric, **kwds)\u001b[0m\n\u001b[1;32m    274\u001b[0m     \u001b[0mn_samples\u001b[0m \u001b[0;34m=\u001b[0m \u001b[0mlen\u001b[0m\u001b[0;34m(\u001b[0m\u001b[0mlabels\u001b[0m\u001b[0;34m)\u001b[0m\u001b[0;34m\u001b[0m\u001b[0;34m\u001b[0m\u001b[0m\n\u001b[1;32m    275\u001b[0m     \u001b[0mlabel_freqs\u001b[0m \u001b[0;34m=\u001b[0m \u001b[0mnp\u001b[0m\u001b[0;34m.\u001b[0m\u001b[0mbincount\u001b[0m\u001b[0;34m(\u001b[0m\u001b[0mlabels\u001b[0m\u001b[0;34m)\u001b[0m\u001b[0;34m\u001b[0m\u001b[0;34m\u001b[0m\u001b[0m\n\u001b[0;32m--> 276\u001b[0;31m     \u001b[0mcheck_number_of_labels\u001b[0m\u001b[0;34m(\u001b[0m\u001b[0mlen\u001b[0m\u001b[0;34m(\u001b[0m\u001b[0mle\u001b[0m\u001b[0;34m.\u001b[0m\u001b[0mclasses_\u001b[0m\u001b[0;34m)\u001b[0m\u001b[0;34m,\u001b[0m \u001b[0mn_samples\u001b[0m\u001b[0;34m)\u001b[0m\u001b[0;34m\u001b[0m\u001b[0;34m\u001b[0m\u001b[0m\n\u001b[0m\u001b[1;32m    277\u001b[0m \u001b[0;34m\u001b[0m\u001b[0m\n\u001b[1;32m    278\u001b[0m     \u001b[0mkwds\u001b[0m\u001b[0;34m[\u001b[0m\u001b[0;34m\"metric\"\u001b[0m\u001b[0;34m]\u001b[0m \u001b[0;34m=\u001b[0m \u001b[0mmetric\u001b[0m\u001b[0;34m\u001b[0m\u001b[0;34m\u001b[0m\u001b[0m\n",
            "\u001b[0;32m/usr/local/lib/python3.10/dist-packages/sklearn/metrics/cluster/_unsupervised.py\u001b[0m in \u001b[0;36mcheck_number_of_labels\u001b[0;34m(n_labels, n_samples)\u001b[0m\n\u001b[1;32m     35\u001b[0m     \"\"\"\n\u001b[1;32m     36\u001b[0m     \u001b[0;32mif\u001b[0m \u001b[0;32mnot\u001b[0m \u001b[0;36m1\u001b[0m \u001b[0;34m<\u001b[0m \u001b[0mn_labels\u001b[0m \u001b[0;34m<\u001b[0m \u001b[0mn_samples\u001b[0m\u001b[0;34m:\u001b[0m\u001b[0;34m\u001b[0m\u001b[0;34m\u001b[0m\u001b[0m\n\u001b[0;32m---> 37\u001b[0;31m         raise ValueError(\n\u001b[0m\u001b[1;32m     38\u001b[0m             \u001b[0;34m\"Number of labels is %d. Valid values are 2 to n_samples - 1 (inclusive)\"\u001b[0m\u001b[0;34m\u001b[0m\u001b[0;34m\u001b[0m\u001b[0m\n\u001b[1;32m     39\u001b[0m             \u001b[0;34m%\u001b[0m \u001b[0mn_labels\u001b[0m\u001b[0;34m\u001b[0m\u001b[0;34m\u001b[0m\u001b[0m\n",
            "\u001b[0;31mValueError\u001b[0m: Number of labels is 1. Valid values are 2 to n_samples - 1 (inclusive)"
          ]
        }
      ],
      "source": [
        "# Aplicação algoritmo k centros 1 distância de Manhattan\n",
        "experimentos_kcentros1(X_dist_manhattan, n_pontos,  X, y.squeeze(), k,'Manhattan', 4)"
      ]
    },
    {
      "cell_type": "code",
      "source": [
        "# Aplicação algoritmo k centros 1 distância Euclidiana\n",
        "experimentos_kcentros1(X_dist_euclidiana , n_pontos,  X, y.squeeze(), k, 'Euclidiana', 4)"
      ],
      "metadata": {
        "colab": {
          "base_uri": "https://localhost:8080/",
          "height": 373
        },
        "id": "y2BI1D2kcVrh",
        "outputId": "d50b4ddb-426d-4521-c30b-33e563ce8b13"
      },
      "execution_count": null,
      "outputs": [
        {
          "output_type": "error",
          "ename": "ValueError",
          "evalue": "Number of labels is 1. Valid values are 2 to n_samples - 1 (inclusive)",
          "traceback": [
            "\u001b[0;31m---------------------------------------------------------------------------\u001b[0m",
            "\u001b[0;31mValueError\u001b[0m                                Traceback (most recent call last)",
            "\u001b[0;32m<ipython-input-482-1bbbb384ba9f>\u001b[0m in \u001b[0;36m<cell line: 2>\u001b[0;34m()\u001b[0m\n\u001b[1;32m      1\u001b[0m \u001b[0;31m# Aplicação algoritmo k centros 1 distância Euclidiana\u001b[0m\u001b[0;34m\u001b[0m\u001b[0;34m\u001b[0m\u001b[0m\n\u001b[0;32m----> 2\u001b[0;31m \u001b[0mexperimentos_kcentros1\u001b[0m\u001b[0;34m(\u001b[0m\u001b[0mX_dist_euclidiana\u001b[0m \u001b[0;34m,\u001b[0m \u001b[0mn_pontos\u001b[0m\u001b[0;34m,\u001b[0m  \u001b[0mX\u001b[0m\u001b[0;34m,\u001b[0m \u001b[0my\u001b[0m\u001b[0;34m.\u001b[0m\u001b[0msqueeze\u001b[0m\u001b[0;34m(\u001b[0m\u001b[0;34m)\u001b[0m\u001b[0;34m,\u001b[0m \u001b[0;34m'Euclidiana'\u001b[0m\u001b[0;34m,\u001b[0m \u001b[0;36m4\u001b[0m\u001b[0;34m)\u001b[0m\u001b[0;34m\u001b[0m\u001b[0;34m\u001b[0m\u001b[0m\n\u001b[0m\u001b[1;32m      3\u001b[0m \u001b[0;34m\u001b[0m\u001b[0m\n\u001b[1;32m      4\u001b[0m \u001b[0;31m# Aplicação algoritmo kcentros 2 distância de Manhattan\u001b[0m\u001b[0;34m\u001b[0m\u001b[0;34m\u001b[0m\u001b[0m\n\u001b[1;32m      5\u001b[0m \u001b[0mexperimentos_kcentros2\u001b[0m\u001b[0;34m(\u001b[0m\u001b[0mX_dist_manhattan\u001b[0m\u001b[0;34m,\u001b[0m \u001b[0mn_pontos\u001b[0m\u001b[0;34m,\u001b[0m \u001b[0mX\u001b[0m\u001b[0;34m,\u001b[0m \u001b[0my\u001b[0m\u001b[0;34m.\u001b[0m\u001b[0msqueeze\u001b[0m\u001b[0;34m(\u001b[0m\u001b[0;34m)\u001b[0m\u001b[0;34m,\u001b[0m \u001b[0;34m'Manhattan'\u001b[0m\u001b[0;34m,\u001b[0m \u001b[0;36m4\u001b[0m\u001b[0;34m)\u001b[0m\u001b[0;34m\u001b[0m\u001b[0;34m\u001b[0m\u001b[0m\n",
            "\u001b[0;32m<ipython-input-442-771336ebd960>\u001b[0m in \u001b[0;36mexperimentos_kcentros1\u001b[0;34m(m_dist, npontos, X, y_map, t_dist, id_dataset)\u001b[0m\n\u001b[1;32m     18\u001b[0m \u001b[0;34m\u001b[0m\u001b[0m\n\u001b[1;32m     19\u001b[0m       \u001b[0mtmp_exec_kmeans\u001b[0m\u001b[0;34m.\u001b[0m\u001b[0mappend\u001b[0m\u001b[0;34m(\u001b[0m\u001b[0mexecution_time\u001b[0m\u001b[0;34m)\u001b[0m\u001b[0;34m\u001b[0m\u001b[0;34m\u001b[0m\u001b[0m\n\u001b[0;32m---> 20\u001b[0;31m       \u001b[0msilhueta_kmeans\u001b[0m\u001b[0;34m.\u001b[0m\u001b[0mappend\u001b[0m\u001b[0;34m(\u001b[0m\u001b[0msilhouette_score\u001b[0m\u001b[0;34m(\u001b[0m\u001b[0mX\u001b[0m\u001b[0;34m,\u001b[0m \u001b[0mc_dados\u001b[0m\u001b[0;34m)\u001b[0m\u001b[0;34m)\u001b[0m\u001b[0;34m\u001b[0m\u001b[0;34m\u001b[0m\u001b[0m\n\u001b[0m\u001b[1;32m     21\u001b[0m       \u001b[0mindice_rand_kmeans\u001b[0m\u001b[0;34m.\u001b[0m\u001b[0mappend\u001b[0m\u001b[0;34m(\u001b[0m\u001b[0madjusted_rand_score\u001b[0m\u001b[0;34m(\u001b[0m\u001b[0my_map\u001b[0m\u001b[0;34m,\u001b[0m \u001b[0mc_dados\u001b[0m\u001b[0;34m)\u001b[0m\u001b[0;34m)\u001b[0m\u001b[0;34m\u001b[0m\u001b[0;34m\u001b[0m\u001b[0m\n\u001b[1;32m     22\u001b[0m \u001b[0;34m\u001b[0m\u001b[0m\n",
            "\u001b[0;32m/usr/local/lib/python3.10/dist-packages/sklearn/utils/_param_validation.py\u001b[0m in \u001b[0;36mwrapper\u001b[0;34m(*args, **kwargs)\u001b[0m\n\u001b[1;32m    212\u001b[0m                     )\n\u001b[1;32m    213\u001b[0m                 ):\n\u001b[0;32m--> 214\u001b[0;31m                     \u001b[0;32mreturn\u001b[0m \u001b[0mfunc\u001b[0m\u001b[0;34m(\u001b[0m\u001b[0;34m*\u001b[0m\u001b[0margs\u001b[0m\u001b[0;34m,\u001b[0m \u001b[0;34m**\u001b[0m\u001b[0mkwargs\u001b[0m\u001b[0;34m)\u001b[0m\u001b[0;34m\u001b[0m\u001b[0;34m\u001b[0m\u001b[0m\n\u001b[0m\u001b[1;32m    215\u001b[0m             \u001b[0;32mexcept\u001b[0m \u001b[0mInvalidParameterError\u001b[0m \u001b[0;32mas\u001b[0m \u001b[0me\u001b[0m\u001b[0;34m:\u001b[0m\u001b[0;34m\u001b[0m\u001b[0;34m\u001b[0m\u001b[0m\n\u001b[1;32m    216\u001b[0m                 \u001b[0;31m# When the function is just a wrapper around an estimator, we allow\u001b[0m\u001b[0;34m\u001b[0m\u001b[0;34m\u001b[0m\u001b[0m\n",
            "\u001b[0;32m/usr/local/lib/python3.10/dist-packages/sklearn/metrics/cluster/_unsupervised.py\u001b[0m in \u001b[0;36msilhouette_score\u001b[0;34m(X, labels, metric, sample_size, random_state, **kwds)\u001b[0m\n\u001b[1;32m    128\u001b[0m         \u001b[0;32melse\u001b[0m\u001b[0;34m:\u001b[0m\u001b[0;34m\u001b[0m\u001b[0;34m\u001b[0m\u001b[0m\n\u001b[1;32m    129\u001b[0m             \u001b[0mX\u001b[0m\u001b[0;34m,\u001b[0m \u001b[0mlabels\u001b[0m \u001b[0;34m=\u001b[0m \u001b[0mX\u001b[0m\u001b[0;34m[\u001b[0m\u001b[0mindices\u001b[0m\u001b[0;34m]\u001b[0m\u001b[0;34m,\u001b[0m \u001b[0mlabels\u001b[0m\u001b[0;34m[\u001b[0m\u001b[0mindices\u001b[0m\u001b[0;34m]\u001b[0m\u001b[0;34m\u001b[0m\u001b[0;34m\u001b[0m\u001b[0m\n\u001b[0;32m--> 130\u001b[0;31m     \u001b[0;32mreturn\u001b[0m \u001b[0mnp\u001b[0m\u001b[0;34m.\u001b[0m\u001b[0mmean\u001b[0m\u001b[0;34m(\u001b[0m\u001b[0msilhouette_samples\u001b[0m\u001b[0;34m(\u001b[0m\u001b[0mX\u001b[0m\u001b[0;34m,\u001b[0m \u001b[0mlabels\u001b[0m\u001b[0;34m,\u001b[0m \u001b[0mmetric\u001b[0m\u001b[0;34m=\u001b[0m\u001b[0mmetric\u001b[0m\u001b[0;34m,\u001b[0m \u001b[0;34m**\u001b[0m\u001b[0mkwds\u001b[0m\u001b[0;34m)\u001b[0m\u001b[0;34m)\u001b[0m\u001b[0;34m\u001b[0m\u001b[0;34m\u001b[0m\u001b[0m\n\u001b[0m\u001b[1;32m    131\u001b[0m \u001b[0;34m\u001b[0m\u001b[0m\n\u001b[1;32m    132\u001b[0m \u001b[0;34m\u001b[0m\u001b[0m\n",
            "\u001b[0;32m/usr/local/lib/python3.10/dist-packages/sklearn/utils/_param_validation.py\u001b[0m in \u001b[0;36mwrapper\u001b[0;34m(*args, **kwargs)\u001b[0m\n\u001b[1;32m    185\u001b[0m             \u001b[0mglobal_skip_validation\u001b[0m \u001b[0;34m=\u001b[0m \u001b[0mget_config\u001b[0m\u001b[0;34m(\u001b[0m\u001b[0;34m)\u001b[0m\u001b[0;34m[\u001b[0m\u001b[0;34m\"skip_parameter_validation\"\u001b[0m\u001b[0;34m]\u001b[0m\u001b[0;34m\u001b[0m\u001b[0;34m\u001b[0m\u001b[0m\n\u001b[1;32m    186\u001b[0m             \u001b[0;32mif\u001b[0m \u001b[0mglobal_skip_validation\u001b[0m\u001b[0;34m:\u001b[0m\u001b[0;34m\u001b[0m\u001b[0;34m\u001b[0m\u001b[0m\n\u001b[0;32m--> 187\u001b[0;31m                 \u001b[0;32mreturn\u001b[0m \u001b[0mfunc\u001b[0m\u001b[0;34m(\u001b[0m\u001b[0;34m*\u001b[0m\u001b[0margs\u001b[0m\u001b[0;34m,\u001b[0m \u001b[0;34m**\u001b[0m\u001b[0mkwargs\u001b[0m\u001b[0;34m)\u001b[0m\u001b[0;34m\u001b[0m\u001b[0;34m\u001b[0m\u001b[0m\n\u001b[0m\u001b[1;32m    188\u001b[0m \u001b[0;34m\u001b[0m\u001b[0m\n\u001b[1;32m    189\u001b[0m             \u001b[0mfunc_sig\u001b[0m \u001b[0;34m=\u001b[0m \u001b[0msignature\u001b[0m\u001b[0;34m(\u001b[0m\u001b[0mfunc\u001b[0m\u001b[0;34m)\u001b[0m\u001b[0;34m\u001b[0m\u001b[0;34m\u001b[0m\u001b[0m\n",
            "\u001b[0;32m/usr/local/lib/python3.10/dist-packages/sklearn/metrics/cluster/_unsupervised.py\u001b[0m in \u001b[0;36msilhouette_samples\u001b[0;34m(X, labels, metric, **kwds)\u001b[0m\n\u001b[1;32m    274\u001b[0m     \u001b[0mn_samples\u001b[0m \u001b[0;34m=\u001b[0m \u001b[0mlen\u001b[0m\u001b[0;34m(\u001b[0m\u001b[0mlabels\u001b[0m\u001b[0;34m)\u001b[0m\u001b[0;34m\u001b[0m\u001b[0;34m\u001b[0m\u001b[0m\n\u001b[1;32m    275\u001b[0m     \u001b[0mlabel_freqs\u001b[0m \u001b[0;34m=\u001b[0m \u001b[0mnp\u001b[0m\u001b[0;34m.\u001b[0m\u001b[0mbincount\u001b[0m\u001b[0;34m(\u001b[0m\u001b[0mlabels\u001b[0m\u001b[0;34m)\u001b[0m\u001b[0;34m\u001b[0m\u001b[0;34m\u001b[0m\u001b[0m\n\u001b[0;32m--> 276\u001b[0;31m     \u001b[0mcheck_number_of_labels\u001b[0m\u001b[0;34m(\u001b[0m\u001b[0mlen\u001b[0m\u001b[0;34m(\u001b[0m\u001b[0mle\u001b[0m\u001b[0;34m.\u001b[0m\u001b[0mclasses_\u001b[0m\u001b[0;34m)\u001b[0m\u001b[0;34m,\u001b[0m \u001b[0mn_samples\u001b[0m\u001b[0;34m)\u001b[0m\u001b[0;34m\u001b[0m\u001b[0;34m\u001b[0m\u001b[0m\n\u001b[0m\u001b[1;32m    277\u001b[0m \u001b[0;34m\u001b[0m\u001b[0m\n\u001b[1;32m    278\u001b[0m     \u001b[0mkwds\u001b[0m\u001b[0;34m[\u001b[0m\u001b[0;34m\"metric\"\u001b[0m\u001b[0;34m]\u001b[0m \u001b[0;34m=\u001b[0m \u001b[0mmetric\u001b[0m\u001b[0;34m\u001b[0m\u001b[0;34m\u001b[0m\u001b[0m\n",
            "\u001b[0;32m/usr/local/lib/python3.10/dist-packages/sklearn/metrics/cluster/_unsupervised.py\u001b[0m in \u001b[0;36mcheck_number_of_labels\u001b[0;34m(n_labels, n_samples)\u001b[0m\n\u001b[1;32m     35\u001b[0m     \"\"\"\n\u001b[1;32m     36\u001b[0m     \u001b[0;32mif\u001b[0m \u001b[0;32mnot\u001b[0m \u001b[0;36m1\u001b[0m \u001b[0;34m<\u001b[0m \u001b[0mn_labels\u001b[0m \u001b[0;34m<\u001b[0m \u001b[0mn_samples\u001b[0m\u001b[0;34m:\u001b[0m\u001b[0;34m\u001b[0m\u001b[0;34m\u001b[0m\u001b[0m\n\u001b[0;32m---> 37\u001b[0;31m         raise ValueError(\n\u001b[0m\u001b[1;32m     38\u001b[0m             \u001b[0;34m\"Number of labels is %d. Valid values are 2 to n_samples - 1 (inclusive)\"\u001b[0m\u001b[0;34m\u001b[0m\u001b[0;34m\u001b[0m\u001b[0m\n\u001b[1;32m     39\u001b[0m             \u001b[0;34m%\u001b[0m \u001b[0mn_labels\u001b[0m\u001b[0;34m\u001b[0m\u001b[0;34m\u001b[0m\u001b[0m\n",
            "\u001b[0;31mValueError\u001b[0m: Number of labels is 1. Valid values are 2 to n_samples - 1 (inclusive)"
          ]
        }
      ]
    },
    {
      "cell_type": "code",
      "source": [
        "\n",
        "# Aplicação algoritmo kcentros 2 distância de Manhattan\n",
        "experimentos_kcentros2(X_dist_manhattan, n_pontos, X, y.squeeze(), k, 'Manhattan', 4)\n",
        "\n",
        "#Aplicação algoritmo kcentros 2 distância Euclidiana\n",
        "experimentos_kcentros2(X_dist_euclidiana , n_pontos, X, y.squeeze(),k ,'Euclidiana', 4)"
      ],
      "metadata": {
        "id": "BY-iayAuct1d"
      },
      "execution_count": null,
      "outputs": []
    },
    {
      "cell_type": "markdown",
      "metadata": {
        "id": "3kPfoMI9OJtz"
      },
      "source": [
        "**Pré processamento dataset 5**"
      ]
    },
    {
      "cell_type": "code",
      "execution_count": null,
      "metadata": {
        "id": "nTz70z4cEIWI"
      },
      "outputs": [],
      "source": [
        "# Usamos programas de pré-processamento disponibilizados pelo NIST para\n",
        "# extrair bitmaps normalizados de dígitos manuscritos de um formulário pré-impresso.\n",
        "\n",
        "# fetch dataset\n",
        "optical_recognition_of_handwritten_digits = fetch_ucirepo(id=80)\n",
        "\n",
        "# data (as pandas dataframes)\n",
        "X = optical_recognition_of_handwritten_digits.data.features\n",
        "y = optical_recognition_of_handwritten_digits.data.targets"
      ]
    },
    {
      "cell_type": "code",
      "execution_count": null,
      "metadata": {
        "id": "aHhDPG7yEOVe"
      },
      "outputs": [],
      "source": [
        "X = X.dropna()\n",
        "y = y.loc[X.index]\n",
        "k = y.nunique()\n",
        "n_pontos = X.shape[0]"
      ]
    },
    {
      "cell_type": "code",
      "execution_count": null,
      "metadata": {
        "id": "gZ12TXCgyB6I"
      },
      "outputs": [],
      "source": [
        "# Cálculo da matriz de distâncias\n",
        "p = 1\n",
        "X_dist_manhattan = matriz_dist(X, p)\n",
        "p = 2\n",
        "X_dist_euclidiana = matriz_dist(X, p)"
      ]
    },
    {
      "cell_type": "code",
      "execution_count": null,
      "metadata": {
        "id": "ooMAD302yFi6"
      },
      "outputs": [],
      "source": [
        "# Aplicação algoritmo k centros 1 distância de Manhattan\n",
        "experimentos_kcentros1(X_dist_manhattan, n_pontos,  X, y, k, 'Manhattan', 5)\n",
        "\n",
        "# Aplicação algoritmo k centros 1 distância Euclidiana\n",
        "experimentos_kcentros1(X_dist_euclidiana , n_pontos,  X, y, k, 'Euclidiana', 5)\n",
        "\n",
        "# Aplicação algoritmo kcentros 2 distância de Manhattan\n",
        "experimentos_kcentros2(X_dist_manhattan, n_pontos, X, y, k, 'Manhattan', 5)\n",
        "\n",
        "#Aplicação algoritmo kcentros 2 distância Euclidiana\n",
        "experimentos_kcentros2(X_dist_euclidiana , n_pontos, X, k,'Euclidiana', 5)"
      ]
    },
    {
      "cell_type": "markdown",
      "metadata": {
        "id": "-h_8fCFBO3FN"
      },
      "source": [
        "**Pré processamento dataset 6**"
      ]
    },
    {
      "cell_type": "code",
      "execution_count": null,
      "metadata": {
        "id": "gDTlQHUr42Hp"
      },
      "outputs": [],
      "source": [
        "# Objetos 3D dentro de uma imagem 2D pela aplicação de um conjunto de extratores\n",
        "# de características de forma às silhuetas 2D dos objetos.\n",
        "\n",
        "# buscar conjunto de dados\n",
        "statlog_vehicle_silhouettes = fetch_ucirepo(id=149)\n",
        "\n",
        "# dados (como dataframes pandas)\n",
        "X = statlog_vehicle_silhouettes.data.features\n",
        "y = statlog_vehicle_silhouettes.data.targets"
      ]
    },
    {
      "cell_type": "code",
      "execution_count": null,
      "metadata": {
        "id": "xoAS8UhZ44aj"
      },
      "outputs": [],
      "source": [
        "X = X.dropna()\n",
        "y = y.loc[X.index]\n",
        "k = y.nunique()\n",
        "n_pontos = X.shape[0]"
      ]
    },
    {
      "cell_type": "code",
      "execution_count": null,
      "metadata": {
        "colab": {
          "base_uri": "https://localhost:8080/"
        },
        "id": "bR0OuNTRO9UH",
        "outputId": "affdea68-b52b-4d02-ff3a-b02d1ca15ae9"
      },
      "outputs": [
        {
          "data": {
            "text/plain": [
              "array(['van', 'saab', 'bus', 'opel'], dtype=object)"
            ]
          },
          "execution_count": 255,
          "metadata": {},
          "output_type": "execute_result"
        }
      ],
      "source": [
        "y['class'].unique()"
      ]
    },
    {
      "cell_type": "code",
      "execution_count": null,
      "metadata": {
        "id": "bAB0WSQ8PgCi"
      },
      "outputs": [],
      "source": [
        "mapping = {'van': 0, 'saab': 1, 'bus':2, 'opel': 3}\n",
        "y_map = y['class'].map(mapping)"
      ]
    },
    {
      "cell_type": "code",
      "execution_count": null,
      "metadata": {
        "id": "04CP-yE0yNjr"
      },
      "outputs": [],
      "source": [
        "# Cálculo da matriz de distâncias\n",
        "p = 1\n",
        "X_dist_manhattan = matriz_dist(X, p)\n",
        "p = 2\n",
        "X_dist_euclidiana = matriz_dist(X, p)"
      ]
    },
    {
      "cell_type": "code",
      "execution_count": null,
      "metadata": {
        "id": "t7kY2CAryL2G"
      },
      "outputs": [],
      "source": [
        "# Aplicação algoritmo k centros 1 distância de Manhattan\n",
        "experimentos_kcentros1(X_dist_manhattan, n_pontos,  X, y_map, k, 'Manhattan', 6)\n",
        "\n",
        "# Aplicação algoritmo k centros 1 distância Euclidiana\n",
        "experimentos_kcentros1(X_dist_euclidiana , n_pontos,  X, y_map, k, 'Euclidiana', 6)\n",
        "\n",
        "# Aplicação algoritmo kcentros 2 distância de Manhattan\n",
        "experimentos_kcentros2(X_dist_manhattan, n_pontos, X, y_map, k, 'Manhattan', 6)\n",
        "\n",
        "#Aplicação algoritmo kcentros 2 distância Euclidiana\n",
        "experimentos_kcentros2(X_dist_euclidiana , n_pontos, X, y_map, k, 'Euclidiana', 6)"
      ]
    },
    {
      "cell_type": "markdown",
      "metadata": {
        "id": "S_8wEIFWPur6"
      },
      "source": [
        "**Pré processamento dataset 7**"
      ]
    },
    {
      "cell_type": "code",
      "execution_count": null,
      "metadata": {
        "id": "RzXuqW-UCWUr"
      },
      "outputs": [],
      "source": [
        "# Predição dos locais de localização celular de proteínas\n",
        "\n",
        "# fetch dataset\n",
        "yeast = fetch_ucirepo(id=110)\n",
        "\n",
        "# data (as pandas dataframes)\n",
        "X = yeast.data.features\n",
        "y = yeast.data.targets"
      ]
    },
    {
      "cell_type": "code",
      "execution_count": null,
      "metadata": {
        "id": "1uWk8h5WCXc1"
      },
      "outputs": [],
      "source": [
        "X = X.dropna()\n",
        "y = y.loc[X.index]\n",
        "k = y.nunique()\n",
        "n_pontos = X.shape[0]"
      ]
    },
    {
      "cell_type": "code",
      "execution_count": null,
      "metadata": {
        "colab": {
          "base_uri": "https://localhost:8080/"
        },
        "id": "HMbDbrcNP5Ks",
        "outputId": "95c0b444-8992-4800-8568-8a5e5e9821ad"
      },
      "outputs": [
        {
          "data": {
            "text/plain": [
              "array(['MIT', 'NUC', 'CYT', 'ME1', 'EXC', 'ME2', 'ME3', 'VAC', 'POX',\n",
              "       'ERL'], dtype=object)"
            ]
          },
          "execution_count": 266,
          "metadata": {},
          "output_type": "execute_result"
        }
      ],
      "source": [
        "y['localization_site'].unique()"
      ]
    },
    {
      "cell_type": "code",
      "execution_count": null,
      "metadata": {
        "id": "koZv2_7tQAQH"
      },
      "outputs": [],
      "source": [
        "mapping = {'MIT': 0, 'NUC': 1, 'CYT':2, 'ME1': 3, 'EXC': 4, 'ME2': 5, 'ME3':6, 'VAC': 7, 'POX': 8, 'ERL': 9}\n",
        "y_map = y['localization_site'].map(mapping)"
      ]
    },
    {
      "cell_type": "code",
      "execution_count": null,
      "metadata": {
        "id": "Ji3LkZ2jyTUW"
      },
      "outputs": [],
      "source": [
        "# Cálculo da matriz de distâncias\n",
        "p = 1\n",
        "X_dist_manhattan = matriz_dist(X, p)\n",
        "p = 2\n",
        "X_dist_euclidiana = matriz_dist(X, p)"
      ]
    },
    {
      "cell_type": "code",
      "execution_count": null,
      "metadata": {
        "id": "IDqN4IU3yWFu"
      },
      "outputs": [],
      "source": [
        "# Aplicação algoritmo k centros 1 distância de Manhattan\n",
        "experimentos_kcentros1(X_dist_manhattan, n_pontos,  X, y_map, k, 'Manhattan', 7)\n",
        "\n",
        "# Aplicação algoritmo k centros 1 distância Euclidiana\n",
        "experimentos_kcentros1(X_dist_euclidiana , n_pontos,  X, y_map, k, 'Euclidiana', 7)\n",
        "\n",
        "# Aplicação algoritmo kcentros 2 distância de Manhattan\n",
        "experimentos_kcentros2(X_dist_manhattan, n_pontos, X, y_map, k, 'Manhattan', 7)\n",
        "\n",
        "#Aplicação algoritmo kcentros 2 distância Euclidiana\n",
        "experimentos_kcentros2(X_dist_euclidiana , n_pontos, X, y_map, k, 'Euclidiana', 7)"
      ]
    },
    {
      "cell_type": "markdown",
      "metadata": {
        "id": "BrNLkMP3QaKX"
      },
      "source": [
        "**Pré processamento dataset 8**"
      ]
    },
    {
      "cell_type": "code",
      "execution_count": null,
      "metadata": {
        "id": "ErsXaa1MDsW4"
      },
      "outputs": [],
      "source": [
        "# fetch dataset\n",
        "blood_transfusion_service_center = fetch_ucirepo(id=176)\n",
        "\n",
        "# data (as pandas dataframes)\n",
        "X = blood_transfusion_service_center.data.features\n",
        "y = blood_transfusion_service_center.data.targets\n"
      ]
    },
    {
      "cell_type": "code",
      "execution_count": null,
      "metadata": {
        "id": "zaYqH5QFDtOu"
      },
      "outputs": [],
      "source": [
        "X = X.dropna()\n",
        "y = y.loc[X.index]\n",
        "k = y.nunique()\n",
        "n_pontos = X.shape[0]"
      ]
    },
    {
      "cell_type": "code",
      "execution_count": null,
      "metadata": {
        "id": "7oyOqdckycc9"
      },
      "outputs": [],
      "source": [
        "# Cálculo da matriz de distâncias\n",
        "p = 1\n",
        "X_dist_manhattan = matriz_dist(X, p)\n",
        "p = 2\n",
        "X_dist_euclidiana = matriz_dist(X, p)"
      ]
    },
    {
      "cell_type": "code",
      "execution_count": null,
      "metadata": {
        "id": "BuY1p2HVyezr"
      },
      "outputs": [],
      "source": [
        "# Aplicação algoritmo k centros 1 distância de Manhattan\n",
        "experimentos_kcentros1(X_dist_manhattan, n_pontos,  X, y.squeeze(), k, 'Manhattan', 8)\n",
        "\n",
        "# Aplicação algoritmo k centros 1 distância Euclidiana\n",
        "experimentos_kcentros1(X_dist_euclidiana , n_pontos,  X, y.squeeze(), k, 'Euclidiana', 8)\n",
        "\n",
        "# Aplicação algoritmo kcentros 2 distância de Manhattan\n",
        "experimentos_kcentros2(X_dist_manhattan, n_pontos, X, y.squeeze(), k, 'Manhattan', 8)\n",
        "\n",
        "#Aplicação algoritmo kcentros 2 distância Euclidiana\n",
        "experimentos_kcentros2(X_dist_euclidiana , n_pontos, X, y.squeeze(), k, 'Euclidiana', 8)"
      ]
    },
    {
      "cell_type": "markdown",
      "metadata": {
        "id": "qzNFSOo4Qlq0"
      },
      "source": [
        "**Pré processamento dataset 9**"
      ]
    },
    {
      "cell_type": "code",
      "execution_count": null,
      "metadata": {
        "id": "4hKg-L6QFzOs"
      },
      "outputs": [],
      "source": [
        "# Preveja a idade do abalone a partir de medidas físicas\n",
        "\n",
        "# fetch dataset\n",
        "abalone = fetch_ucirepo(id=1)\n",
        "\n",
        "# data (as pandas dataframes)\n",
        "X = abalone.data.features\n",
        "y = abalone.data.targets"
      ]
    },
    {
      "cell_type": "code",
      "execution_count": null,
      "metadata": {
        "id": "wfIeLOAtSPcz"
      },
      "outputs": [],
      "source": [
        "X = X.drop('Sex', axis = 1)"
      ]
    },
    {
      "cell_type": "code",
      "execution_count": null,
      "metadata": {
        "id": "GHre4e--SnBm"
      },
      "outputs": [],
      "source": [
        "X = X.dropna()\n",
        "y = y.loc[X.index]\n",
        "k = y.nunique()\n",
        "n_pontos = X.shape[0]"
      ]
    },
    {
      "cell_type": "code",
      "execution_count": null,
      "metadata": {
        "id": "M053JgomF0Ba"
      },
      "outputs": [],
      "source": [
        "# Cálculo da matriz de distâncias\n",
        "p = 1\n",
        "X_dist_manhattan = matriz_dist(X, p)\n",
        "p = 2\n",
        "X_dist_euclidiana = matriz_dist(X, p)"
      ]
    },
    {
      "cell_type": "code",
      "execution_count": null,
      "metadata": {
        "id": "Ue5bT7Fmyofq",
        "colab": {
          "base_uri": "https://localhost:8080/",
          "height": 339
        },
        "outputId": "f5331acb-1359-48af-da58-f0871ac59451"
      },
      "outputs": [
        {
          "output_type": "error",
          "ename": "KeyboardInterrupt",
          "evalue": "",
          "traceback": [
            "\u001b[0;31m---------------------------------------------------------------------------\u001b[0m",
            "\u001b[0;31mKeyboardInterrupt\u001b[0m                         Traceback (most recent call last)",
            "\u001b[0;32m<ipython-input-27-f4a04ba816ce>\u001b[0m in \u001b[0;36m<cell line: 2>\u001b[0;34m()\u001b[0m\n\u001b[1;32m      1\u001b[0m \u001b[0;31m# Aplicação algoritmo k centros 1 distância de Manhattan\u001b[0m\u001b[0;34m\u001b[0m\u001b[0;34m\u001b[0m\u001b[0m\n\u001b[0;32m----> 2\u001b[0;31m \u001b[0mexperimentos_kcentros1\u001b[0m\u001b[0;34m(\u001b[0m\u001b[0mX_dist_manhattan\u001b[0m\u001b[0;34m,\u001b[0m \u001b[0mn_pontos\u001b[0m\u001b[0;34m,\u001b[0m  \u001b[0mX\u001b[0m\u001b[0;34m,\u001b[0m \u001b[0my\u001b[0m\u001b[0;34m.\u001b[0m\u001b[0msqueeze\u001b[0m\u001b[0;34m(\u001b[0m\u001b[0;34m)\u001b[0m\u001b[0;34m,\u001b[0m \u001b[0mk\u001b[0m\u001b[0;34m,\u001b[0m \u001b[0;34m'Manhattan'\u001b[0m\u001b[0;34m,\u001b[0m \u001b[0;36m9\u001b[0m\u001b[0;34m)\u001b[0m\u001b[0;34m\u001b[0m\u001b[0;34m\u001b[0m\u001b[0m\n\u001b[0m\u001b[1;32m      3\u001b[0m \u001b[0;34m\u001b[0m\u001b[0m\n\u001b[1;32m      4\u001b[0m \u001b[0;31m# Aplicação algoritmo k centros 1 distância Euclidiana\u001b[0m\u001b[0;34m\u001b[0m\u001b[0;34m\u001b[0m\u001b[0m\n\u001b[1;32m      5\u001b[0m \u001b[0mexperimentos_kcentros1\u001b[0m\u001b[0;34m(\u001b[0m\u001b[0mX_dist_euclidiana\u001b[0m \u001b[0;34m,\u001b[0m \u001b[0mn_pontos\u001b[0m\u001b[0;34m,\u001b[0m  \u001b[0mX\u001b[0m\u001b[0;34m,\u001b[0m  \u001b[0my\u001b[0m\u001b[0;34m.\u001b[0m\u001b[0msqueeze\u001b[0m\u001b[0;34m(\u001b[0m\u001b[0;34m)\u001b[0m\u001b[0;34m,\u001b[0m \u001b[0mk\u001b[0m\u001b[0;34m,\u001b[0m \u001b[0;34m'Euclidiana'\u001b[0m\u001b[0;34m,\u001b[0m \u001b[0;36m9\u001b[0m\u001b[0;34m)\u001b[0m\u001b[0;34m\u001b[0m\u001b[0;34m\u001b[0m\u001b[0m\n",
            "\u001b[0;32m<ipython-input-11-296851a48405>\u001b[0m in \u001b[0;36mexperimentos_kcentros1\u001b[0;34m(m_dist, npontos, X, y_map, k, t_dist, id_dataset)\u001b[0m\n\u001b[1;32m     10\u001b[0m       \u001b[0mstart_time\u001b[0m \u001b[0;34m=\u001b[0m \u001b[0mtime\u001b[0m\u001b[0;34m.\u001b[0m\u001b[0mtime\u001b[0m\u001b[0;34m(\u001b[0m\u001b[0;34m)\u001b[0m\u001b[0;34m\u001b[0m\u001b[0;34m\u001b[0m\u001b[0m\n\u001b[1;32m     11\u001b[0m \u001b[0;34m\u001b[0m\u001b[0m\n\u001b[0;32m---> 12\u001b[0;31m       \u001b[0mC\u001b[0m \u001b[0;34m=\u001b[0m \u001b[0mkcentros1\u001b[0m\u001b[0;34m(\u001b[0m\u001b[0mn_pontos\u001b[0m\u001b[0;34m,\u001b[0m \u001b[0mm_dist\u001b[0m\u001b[0;34m,\u001b[0m \u001b[0mk\u001b[0m\u001b[0;34m,\u001b[0m \u001b[0mref\u001b[0m\u001b[0;34m[\u001b[0m\u001b[0mi\u001b[0m\u001b[0;34m]\u001b[0m\u001b[0;34m)\u001b[0m\u001b[0;34m\u001b[0m\u001b[0;34m\u001b[0m\u001b[0m\n\u001b[0m\u001b[1;32m     13\u001b[0m \u001b[0;34m\u001b[0m\u001b[0m\n\u001b[1;32m     14\u001b[0m       \u001b[0mend_time\u001b[0m \u001b[0;34m=\u001b[0m \u001b[0mtime\u001b[0m\u001b[0;34m.\u001b[0m\u001b[0mtime\u001b[0m\u001b[0;34m(\u001b[0m\u001b[0;34m)\u001b[0m\u001b[0;34m\u001b[0m\u001b[0;34m\u001b[0m\u001b[0m\n",
            "\u001b[0;32m<ipython-input-7-b403ed99c72a>\u001b[0m in \u001b[0;36mkcentros1\u001b[0;34m(npontos, distancias, k, ref)\u001b[0m\n\u001b[1;32m      1\u001b[0m \u001b[0;32mdef\u001b[0m \u001b[0mkcentros1\u001b[0m\u001b[0;34m(\u001b[0m\u001b[0mnpontos\u001b[0m\u001b[0;34m,\u001b[0m \u001b[0mdistancias\u001b[0m\u001b[0;34m,\u001b[0m\u001b[0mk\u001b[0m\u001b[0;34m,\u001b[0m \u001b[0mref\u001b[0m\u001b[0;34m)\u001b[0m\u001b[0;34m:\u001b[0m\u001b[0;34m\u001b[0m\u001b[0;34m\u001b[0m\u001b[0m\n\u001b[0;32m----> 2\u001b[0;31m   \u001b[0mrmax\u001b[0m \u001b[0;34m=\u001b[0m \u001b[0mcalculo_rmax\u001b[0m\u001b[0;34m(\u001b[0m\u001b[0mdistancias\u001b[0m\u001b[0;34m,\u001b[0m \u001b[0mnpontos\u001b[0m\u001b[0;34m)\u001b[0m\u001b[0;34m\u001b[0m\u001b[0;34m\u001b[0m\u001b[0m\n\u001b[0m\u001b[1;32m      3\u001b[0m   \u001b[0ml\u001b[0m \u001b[0;34m=\u001b[0m \u001b[0;36m0\u001b[0m\u001b[0;34m;\u001b[0m\u001b[0;34m\u001b[0m\u001b[0;34m\u001b[0m\u001b[0m\n\u001b[1;32m      4\u001b[0m   \u001b[0mr\u001b[0m \u001b[0;34m=\u001b[0m \u001b[0mrmax\u001b[0m\u001b[0;34m;\u001b[0m\u001b[0;34m\u001b[0m\u001b[0;34m\u001b[0m\u001b[0m\n\u001b[1;32m      5\u001b[0m \u001b[0;34m\u001b[0m\u001b[0m\n",
            "\u001b[0;32m<ipython-input-6-3b83aad5dfa6>\u001b[0m in \u001b[0;36mcalculo_rmax\u001b[0;34m(distancias, npontos)\u001b[0m\n\u001b[1;32m      3\u001b[0m   \u001b[0;32mfor\u001b[0m \u001b[0mi\u001b[0m \u001b[0;32min\u001b[0m \u001b[0mrange\u001b[0m\u001b[0;34m(\u001b[0m\u001b[0mnpontos\u001b[0m\u001b[0;34m)\u001b[0m\u001b[0;34m:\u001b[0m\u001b[0;34m\u001b[0m\u001b[0;34m\u001b[0m\u001b[0m\n\u001b[1;32m      4\u001b[0m     \u001b[0;32mfor\u001b[0m \u001b[0mj\u001b[0m \u001b[0;32min\u001b[0m \u001b[0mrange\u001b[0m\u001b[0;34m(\u001b[0m\u001b[0mnpontos\u001b[0m\u001b[0;34m)\u001b[0m\u001b[0;34m:\u001b[0m\u001b[0;34m\u001b[0m\u001b[0;34m\u001b[0m\u001b[0m\n\u001b[0;32m----> 5\u001b[0;31m       \u001b[0mrmax\u001b[0m \u001b[0;34m=\u001b[0m \u001b[0mmax\u001b[0m\u001b[0;34m(\u001b[0m\u001b[0mrmax\u001b[0m\u001b[0;34m,\u001b[0m \u001b[0mdistancias\u001b[0m\u001b[0;34m[\u001b[0m\u001b[0mi\u001b[0m\u001b[0;34m,\u001b[0m \u001b[0mj\u001b[0m\u001b[0;34m]\u001b[0m\u001b[0;34m)\u001b[0m\u001b[0;34m\u001b[0m\u001b[0;34m\u001b[0m\u001b[0m\n\u001b[0m\u001b[1;32m      6\u001b[0m   \u001b[0;32mreturn\u001b[0m \u001b[0mrmax\u001b[0m\u001b[0;34m\u001b[0m\u001b[0;34m\u001b[0m\u001b[0m\n",
            "\u001b[0;31mKeyboardInterrupt\u001b[0m: "
          ]
        }
      ],
      "source": [
        "# Aplicação algoritmo k centros 1 distância de Manhattan\n",
        "experimentos_kcentros1(X_dist_manhattan, n_pontos,  X, y.squeeze(), k, 'Manhattan', 9)\n",
        "\n",
        "# Aplicação algoritmo k centros 1 distância Euclidiana\n",
        "experimentos_kcentros1(X_dist_euclidiana , n_pontos,  X,  y.squeeze(), k, 'Euclidiana', 9)\n",
        "\n",
        "# Aplicação algoritmo kcentros 2 distância de Manhattan\n",
        "experimentos_kcentros2(X_dist_manhattan, n_pontos, X,  y.squeeze(), k, 'Manhattan', 9)\n",
        "\n",
        "#Aplicação algoritmo kcentros 2 distância Euclidiana\n",
        "experimentos_kcentros2(X_dist_euclidiana , n_pontos, X,  y.squeeze(), k, 'Euclidiana', 9)"
      ]
    },
    {
      "cell_type": "code",
      "execution_count": null,
      "metadata": {
        "id": "HkvQueqRIqvQ"
      },
      "outputs": [],
      "source": [
        "# Este conjunto de dados contém recursos extraídos do conjunto de\n",
        "# imagens Messidor para prever se uma imagem contém sinais de retinopatia diabética ou não.\n",
        "\n",
        "# fetch dataset\n",
        "diabetic_retinopathy_debrecen = fetch_ucirepo(id=329)\n",
        "\n",
        "# data (as pandas dataframes)\n",
        "X = diabetic_retinopathy_debrecen.data.features\n",
        "y = diabetic_retinopathy_debrecen.data.targets"
      ]
    },
    {
      "cell_type": "code",
      "execution_count": null,
      "metadata": {
        "id": "WG880t8BSMHa"
      },
      "outputs": [],
      "source": [
        "X = X.dropna()\n",
        "y = y.loc[X.index]\n",
        "k = y.nunique()\n",
        "n_pontos = X.shape[0]"
      ]
    },
    {
      "cell_type": "code",
      "execution_count": null,
      "metadata": {
        "id": "KIl4But8yuLW"
      },
      "outputs": [],
      "source": [
        "# Cálculo da matriz de distâncias\n",
        "p = 1\n",
        "X_dist_manhattan = matriz_dist(X, p)\n",
        "p = 2\n",
        "X_dist_euclidiana = matriz_dist(X, p)"
      ]
    },
    {
      "cell_type": "code",
      "execution_count": null,
      "metadata": {
        "id": "nVygR6TAyziM"
      },
      "outputs": [],
      "source": [
        "# Aplicação algoritmo k centros 1 distância de Manhattan\n",
        "experimentos_kcentros1(X_dist_manhattan, n_pontos,  X, y, k, 'Manhattan', 10)\n",
        "\n",
        "# Aplicação algoritmo k centros 1 distância Euclidiana\n",
        "experimentos_kcentros1(X_dist_euclidiana , n_pontos,  X, y, k,  'Euclidiana', 10)\n",
        "\n",
        "# Aplicação algoritmo kcentros 2 distância de Manhattan\n",
        "experimentos_kcentros2(X_dist_manhattan, n_pontos, X, y, k, 'Manhattan', 10)\n",
        "\n",
        "#Aplicação algoritmo kcentros 2 distância Euclidiana\n",
        "experimentos_kcentros2(X_dist_euclidiana , n_pontos, X, y, k, 'Euclidiana', 10)"
      ]
    }
  ],
  "metadata": {
    "colab": {
      "provenance": []
    },
    "kernelspec": {
      "display_name": "Python 3",
      "name": "python3"
    },
    "language_info": {
      "name": "python"
    }
  },
  "nbformat": 4,
  "nbformat_minor": 0
}