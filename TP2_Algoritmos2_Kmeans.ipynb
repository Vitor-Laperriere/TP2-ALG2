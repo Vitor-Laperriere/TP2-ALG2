{
  "nbformat": 4,
  "nbformat_minor": 0,
  "metadata": {
    "colab": {
      "provenance": []
    },
    "kernelspec": {
      "name": "python3",
      "display_name": "Python 3"
    },
    "language_info": {
      "name": "python"
    }
  },
  "cells": [
    {
      "cell_type": "markdown",
      "source": [
        "### Trabalho Prático 2 – Soluções para problemas difíceis"
      ],
      "metadata": {
        "id": "CP0flYrhna18"
      }
    },
    {
      "cell_type": "markdown",
      "source": [
        "#### Importações"
      ],
      "metadata": {
        "id": "dxefDJ3fzlwp"
      }
    },
    {
      "cell_type": "code",
      "source": [
        "import numpy as np\n",
        "!pip install ucimlrepo\n",
        "from ucimlrepo import fetch_ucirepo\n",
        "import time\n",
        "import warnings\n",
        "from itertools import cycle, islice\n",
        "import matplotlib.pyplot as plt\n",
        "import pandas as pd\n",
        "from sklearn.datasets import make_blobs\n",
        "from sklearn.cluster import KMeans\n",
        "from sklearn.metrics import silhouette_score\n",
        "from sklearn.metrics import adjusted_rand_score\n",
        "import os"
      ],
      "metadata": {
        "id": "C6zcvh1Tzfg1",
        "colab": {
          "base_uri": "https://localhost:8080/"
        },
        "outputId": "9253ce33-98a2-4ced-a5ab-ebccac50ceca",
        "collapsed": true
      },
      "execution_count": 91,
      "outputs": [
        {
          "output_type": "stream",
          "name": "stdout",
          "text": [
            "Requirement already satisfied: ucimlrepo in /usr/local/lib/python3.10/dist-packages (0.0.7)\n",
            "Requirement already satisfied: pandas>=1.0.0 in /usr/local/lib/python3.10/dist-packages (from ucimlrepo) (2.1.4)\n",
            "Requirement already satisfied: certifi>=2020.12.5 in /usr/local/lib/python3.10/dist-packages (from ucimlrepo) (2024.7.4)\n",
            "Requirement already satisfied: numpy<2,>=1.22.4 in /usr/local/lib/python3.10/dist-packages (from pandas>=1.0.0->ucimlrepo) (1.26.4)\n",
            "Requirement already satisfied: python-dateutil>=2.8.2 in /usr/local/lib/python3.10/dist-packages (from pandas>=1.0.0->ucimlrepo) (2.8.2)\n",
            "Requirement already satisfied: pytz>=2020.1 in /usr/local/lib/python3.10/dist-packages (from pandas>=1.0.0->ucimlrepo) (2024.1)\n",
            "Requirement already satisfied: tzdata>=2022.1 in /usr/local/lib/python3.10/dist-packages (from pandas>=1.0.0->ucimlrepo) (2024.1)\n",
            "Requirement already satisfied: six>=1.5 in /usr/local/lib/python3.10/dist-packages (from python-dateutil>=2.8.2->pandas>=1.0.0->ucimlrepo) (1.16.0)\n"
          ]
        }
      ]
    },
    {
      "cell_type": "markdown",
      "source": [
        " #### Distância de Minkowski"
      ],
      "metadata": {
        "id": "zFt7HQINnndy"
      }
    },
    {
      "cell_type": "code",
      "execution_count": null,
      "metadata": {
        "id": "DbrRbCsDnWA_"
      },
      "outputs": [],
      "source": [
        "# p = 1 (Distância Manhattan)\n",
        "# p = 2 (Distância Euclidiana)\n",
        "\n",
        "def minkowski(x, y, p):\n",
        "   return np.power(np.sum(np.abs(x - y) ** p), 1/p)"
      ]
    },
    {
      "cell_type": "markdown",
      "source": [
        "#### Cálculo do raio da solução"
      ],
      "metadata": {
        "id": "B4c1y01ot1kx"
      }
    },
    {
      "cell_type": "code",
      "source": [
        "def raio(labels, centros, X):\n",
        "    raio = -1\n",
        "    for i in range(len(labels)):\n",
        "        # Usando indexação direta para acessar X, que agora é um array NumPy\n",
        "        distancia = minkowski(X[i], centros[labels[i]], p=2)\n",
        "        raio = max(raio, distancia)\n",
        "    return raio"
      ],
      "metadata": {
        "id": "ciBf5FsNuBGz"
      },
      "execution_count": 84,
      "outputs": []
    },
    {
      "cell_type": "markdown",
      "source": [
        "#####K-means"
      ],
      "metadata": {
        "id": "htDEKNWGN6kK"
      }
    },
    {
      "cell_type": "code",
      "source": [
        "def kmeans_exec(X, y, k, num_execucoes=30):\n",
        "    tmp_exec_kmeans = []\n",
        "    silhueta_kmeans = []\n",
        "    indice_rand_kmeans = []\n",
        "    raio_exec_kmeans = []\n",
        "\n",
        "    # Calcular a matriz de distâncias entre os centros apenas uma vez\n",
        "    centros_iniciais = KMeans(n_clusters=k, n_init=1).fit(X).cluster_centers_\n",
        "    distancias_centros = np.array([min([minkowski(c, p, p=1) for c in centros_iniciais]) for p in X.values])\n",
        "\n",
        "    for i in range(num_execucoes):\n",
        "        start_time = time.time()\n",
        "\n",
        "        kmeans = KMeans(n_clusters=k, random_state=i, n_init=10)\n",
        "        labels_kmeans = kmeans.fit_predict(X)\n",
        "\n",
        "        end_time = time.time()\n",
        "        execution_time = end_time - start_time\n",
        "\n",
        "        tmp_exec_kmeans.append(execution_time)\n",
        "        silhueta_kmeans.append(silhouette_score(X, labels_kmeans))\n",
        "        indice_rand_kmeans.append(adjusted_rand_score(y, labels_kmeans))\n",
        "\n",
        "        centros_kmeans = kmeans.cluster_centers_\n",
        "        raio_max_kmeans = raio(labels_kmeans, centros_kmeans, distancias_centros)\n",
        "        raio_exec_kmeans.append(raio_max_kmeans)\n",
        "\n",
        "    # Retornar as médias e desvios-padrão das métricas\n",
        "    resultados_kmeans = {\n",
        "        'Algoritmo': 'K-Means',\n",
        "        'Tempo Execução (s)': f\"{np.mean(tmp_exec_kmeans):.4f} ± {np.std(tmp_exec_kmeans):.4f}\",\n",
        "        'Silhueta': f\"{np.mean(silhueta_kmeans):.4f} ± {np.std(silhueta_kmeans):.4f}\",\n",
        "        'Índice de Rand Ajustado': f\"{np.mean(indice_rand_kmeans):.4f} ± {np.std(indice_rand_kmeans):.4f}\",\n",
        "        'Raio Máximo': f\"{np.mean(raio_exec_kmeans):.4f} ± {np.std(raio_exec_kmeans):.4f}\"\n",
        "    }\n",
        "\n",
        "    return resultados_kmeans\n"
      ],
      "metadata": {
        "id": "qyQljl9ROWdG"
      },
      "execution_count": 218,
      "outputs": []
    },
    {
      "cell_type": "markdown",
      "source": [
        "####Processamento dos dados sinteticos"
      ],
      "metadata": {
        "id": "JQPkQWbqKjJR"
      }
    },
    {
      "cell_type": "code",
      "source": [
        "def carregar_datasets(path, num_datasets, sintetico):\n",
        "    datasets = []\n",
        "    for i in range(num_datasets):\n",
        "        if(sintetico ==1):\n",
        "          filename = os.path.join(path, f'dataset_{i}.csv')\n",
        "        elif(sintetico ==2):\n",
        "          filename = os.path.join(path, f'dataset_{i}_dist_mult.csv')\n",
        "\n",
        "        df = pd.read_csv(filename)\n",
        "        datasets.append(df)\n",
        "    return datasets\n",
        "\n",
        "def processar_datasets_kmeans(datasets, sintetico):\n",
        "    resultados = []\n",
        "    for i, df in enumerate(datasets):\n",
        "\n",
        "      if(sintetico ==1):\n",
        "        X = df[['feature_1', 'feature_2']]\n",
        "        y = df['target']\n",
        "\n",
        "      elif(sintetico ==2):\n",
        "        X = df[['X1', 'X2']]\n",
        "        y = df['Center']\n",
        "\n",
        "      num_clusters = y.nunique()\n",
        "      resultado_kmeans = kmeans_exec(X, y, num_clusters)\n",
        "\n",
        "      if(sintetico ==1):\n",
        "        resultado_kmeans['Dataset'] = f'dataset_{i}.csv'\n",
        "      elif(sintetico ==2):\n",
        "        resultado_kmeans['Dataset'] = f'dataset_{i}_dist_mult.csv'\n",
        "\n",
        "      resultados.append(resultado_kmeans)\n",
        "    return pd.DataFrame(resultados)\n"
      ],
      "metadata": {
        "id": "GvOadrhvJPVd"
      },
      "execution_count": 200,
      "outputs": []
    },
    {
      "cell_type": "code",
      "source": [
        "def datasetUCI(n, data_set_name):\n",
        "\n",
        "  dataset = fetch_ucirepo(id=n)\n",
        "  X = dataset.data.features\n",
        "  y = dataset.data.targets.squeeze()\n",
        "\n",
        "  if(n ==1):\n",
        "    X = X.drop('Sex', axis = 1)\n",
        "\n",
        "  X = X.dropna()\n",
        "  y = y.loc[X.index]\n",
        "  k = y.nunique()\n",
        "\n",
        "  resultados_kmeans = kmeans_exec(X, y, k)\n",
        "\n",
        "  resultados_df = pd.DataFrame([resultados_kmeans])\n",
        "  resultados_df.to_csv(f'resultados_kmeans_UCI_{data_set_name}.csv', index=False)"
      ],
      "metadata": {
        "id": "IXPE8V1wWk1V"
      },
      "execution_count": 219,
      "outputs": []
    },
    {
      "cell_type": "code",
      "source": [
        "def main_Kmeans():\n",
        "  #UCI\n",
        "  datasetUCI(850, 'Raisin')\n",
        "  datasetUCI(50, 'image_segmentation')\n",
        "  datasetUCI(863, 'maternal_health_risk')\n",
        "  datasetUCI(161, 'mammographic_mass')\n",
        "  datasetUCI(80, 'optical_recognition_of_handwritten_digits')\n",
        "  datasetUCI(149, 'statlog_vehicle_silhouettes')\n",
        "  datasetUCI(110, 'yeast')\n",
        "  datasetUCI(176, 'blood_transfusion_service_center')\n",
        "  datasetUCI(1, 'abalone')\n",
        "  datasetUCI(329, 'diabetic_retinopathy_debrecen')\n",
        "\n",
        "  ##Sinteticos 1\n",
        "  datasets = carregar_datasets('.', 10, 1)\n",
        "  resultados_kmeans = processar_datasets_kmeans(datasets, 1)\n",
        "  resultados_kmeans.to_csv('resultados_kmeans_sinteticos_1.csv', index=False)\n",
        "\n",
        "  ##Sinteticos 2\n",
        "  datasets = carregar_datasets('.', 10, 2)\n",
        "  resultados_kmeans = processar_datasets_kmeans(datasets, 2)\n",
        "  resultados_kmeans.to_csv('resultados_kmeans_sinteticos_2.csv', index=False)\n",
        "\n",
        "# Executa a função principal\n",
        "if __name__ == \"__main__\":\n",
        "    main_Kmeans()"
      ],
      "metadata": {
        "id": "JZOKUzjvVBOP"
      },
      "execution_count": 221,
      "outputs": []
    }
  ]
}